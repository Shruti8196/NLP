{
 "cells": [
  {
   "cell_type": "markdown",
   "metadata": {
    "id": "TMm1ZRziGCXW"
   },
   "source": [
    "# Section: RNN & LSTM\n",
    "\n",
    "\n",
    "\n"
   ]
  },
  {
   "cell_type": "markdown",
   "metadata": {
    "id": "X5UkoiXcGCRN"
   },
   "source": [
    "## <font color='#4073FF'>Project Solution: Chatbot</font>"
   ]
  },
  {
   "cell_type": "markdown",
   "metadata": {
    "id": "ZHQk77qMGCGw"
   },
   "source": [
    "###  <font color='#14AAF5'> Train a bot that can hold basic conservations.</font>"
   ]
  },
  {
   "cell_type": "markdown",
   "metadata": {
    "id": "mwGMegfMGCAJ"
   },
   "source": [
    "### Project Brief:\n",
    "\n",
    "Normal Neural Networks are feedforward neural networks wherein the input data travels only in one direction i.e forward from the input nodes through the hidden layers and finally to the output layer. Recurrent Neural Networks, on the other hand, are a bit complicated. The data travels in cycles through different layers.\n",
    "\n",
    "Long Short-Term Memory Network or LSTM, is a variation of a recurrent neural network (RNN) that is quite effective in predicting the long sequences of data like sentences and stock prices over a period of time.\n",
    "\n",
    "You need to create a project where a chatbot automatically answers you using a LSTM network. Chatbots are fast and easy to access, and chatbots can be good sources of information if trained that way. A study also found that people felt it was important for chatbots to be humanlike, because they would want the chatbots to provide emotional support. "
   ]
  },
  {
   "cell_type": "markdown",
   "metadata": {
    "id": "-2h83hNGI2IY"
   },
   "source": [
    "### 1. Dataset\n",
    "\n",
    "In this project, you will be creating your own data by running the \"data_generation.py\" file. You would need to input conversations which will later be used to train the chatbot. Right now, the files Qus_data.txt and Ans_data.txt consists of some custom data. You can generate and use your own data instead."
   ]
  },
  {
   "cell_type": "code",
   "execution_count": 1,
   "metadata": {
    "colab": {
     "base_uri": "https://localhost:8080/"
    },
    "id": "Cy9hF4dm7a0W",
    "outputId": "e19fd597-90ce-423f-bff3-33f187b306e5"
   },
   "outputs": [
    {
     "name": "stdout",
     "output_type": "stream",
     "text": [
      "Drive already mounted at /content/gdrive; to attempt to forcibly remount, call drive.mount(\"/content/gdrive\", force_remount=True).\n"
     ]
    }
   ],
   "source": [
    "# Please upload chatbot folder to your drive before performing any actions\n",
    "\n",
    "# Mount your drive to access the chatbot folder\n",
    "from google.colab import drive\n",
    "drive.mount('/content/gdrive')"
   ]
  },
  {
   "cell_type": "code",
   "execution_count": 2,
   "metadata": {
    "colab": {
     "base_uri": "https://localhost:8080/"
    },
    "id": "5aBXqcXN_xpD",
    "outputId": "d2cc9352-d583-445b-c26c-ff71fef58519"
   },
   "outputs": [
    {
     "name": "stdout",
     "output_type": "stream",
     "text": [
      "/content/gdrive/MyDrive/chatbot\n"
     ]
    }
   ],
   "source": [
    "# cd into chatbot directory\n",
    "%cd 'gdrive/MyDrive/chatbot'"
   ]
  },
  {
   "cell_type": "code",
   "execution_count": 3,
   "metadata": {
    "colab": {
     "base_uri": "https://localhost:8080/"
    },
    "id": "YG2gRWpd_7Ux",
    "outputId": "74f53191-8689-4de0-f515-d72c535c7623"
   },
   "outputs": [
    {
     "name": "stdout",
     "output_type": "stream",
     "text": [
      "/content/gdrive/MyDrive/chatbot\n"
     ]
    }
   ],
   "source": [
    "# check current directory\n",
    "!pwd"
   ]
  },
  {
   "cell_type": "code",
   "execution_count": 8,
   "metadata": {
    "id": "Vc_RF_YxO3sl"
   },
   "outputs": [],
   "source": [
    "# generate your data\n",
    "# %run 'data_generation.py'"
   ]
  },
  {
   "cell_type": "code",
   "execution_count": 9,
   "metadata": {
    "colab": {
     "base_uri": "https://localhost:8080/"
    },
    "id": "g7aWITigRAFF",
    "outputId": "7dcf7389-fa91-41d4-f3bc-1182a66fad35"
   },
   "outputs": [
    {
     "name": "stdout",
     "output_type": "stream",
     "text": [
      "['Hi', 'Hello', 'Hey hi', 'hey hello', 'hii', 'hey hello how are you doing?', 'howdy', 'good morning', 'good evening', 'hello there', 'I need some help', 'can you help me', 'please help me', 'please assist me', 'I need some assistance', 'Can you assist me', 'is there anyone to help', 'please help or assist me', 'help me now urgent', 'some help or assistance is needed now', 'What is AI?', 'Define Artificial Intelligence.', 'Can you tell something about Artificial Intelligence?', 'what is artificial intelligence?', 'what is meaning of artificial intelligence?', 'tell me definition of artificial intelligence', 'Artificial Intelligence', 'How artificial intelligence works?', 'What do you mean by AI?', 'define Artificial Intelligence.'] [0, 0, 0, 0, 0, 0, 0, 0, 0, 0, 1, 1, 1, 1, 1, 1, 1, 1, 1, 1, 2, 2, 2, 2, 2, 2, 2, 2, 2, 2]\n",
      "Average size of all docs =   2.2\n",
      "Epoch 1/10\n",
      "6/6 [==============================] - 2s 9ms/step - loss: 1.1421 - accuracy: 0.2667\n",
      "Epoch 2/10\n",
      "6/6 [==============================] - 0s 9ms/step - loss: 1.1026 - accuracy: 0.3000\n",
      "Epoch 3/10\n",
      "6/6 [==============================] - 0s 8ms/step - loss: 1.1052 - accuracy: 0.3333\n",
      "Epoch 4/10\n",
      "6/6 [==============================] - 0s 8ms/step - loss: 1.1043 - accuracy: 0.2333\n",
      "Epoch 5/10\n",
      "6/6 [==============================] - 0s 8ms/step - loss: 1.1010 - accuracy: 0.3333\n",
      "Epoch 6/10\n",
      "6/6 [==============================] - 0s 9ms/step - loss: 1.0934 - accuracy: 0.4000\n",
      "Epoch 7/10\n",
      "6/6 [==============================] - 0s 8ms/step - loss: 1.0893 - accuracy: 0.5000\n",
      "Epoch 8/10\n",
      "6/6 [==============================] - 0s 9ms/step - loss: 1.0850 - accuracy: 0.5667\n",
      "Epoch 9/10\n",
      "6/6 [==============================] - 0s 11ms/step - loss: 1.0782 - accuracy: 0.7000\n",
      "Epoch 10/10\n",
      "6/6 [==============================] - 0s 8ms/step - loss: 1.0704 - accuracy: 0.8333\n",
      "1/1 [==============================] - 0s 390ms/step - loss: 1.0621 - accuracy: 0.9667\n",
      "[1.062079906463623, 0.9666666388511658]\n",
      "1/1 [==============================] - 0s 19ms/step - loss: 1.0621 - accuracy: 0.9667\n"
     ]
    }
   ],
   "source": [
    "# perform training\n",
    "%run Chatbot_train.py"
   ]
  },
  {
   "cell_type": "code",
   "execution_count": 10,
   "metadata": {
    "colab": {
     "base_uri": "https://localhost:8080/"
    },
    "id": "JDzAILmj7e0y",
    "outputId": "0d8d7f54-d553-4d1e-a408-a5ec49f1a02d"
   },
   "outputs": [
    {
     "name": "stdout",
     "output_type": "stream",
     "text": [
      "You: AI\n",
      "Bot:  Artificial intelligence (AI) refers to the simulation of human intelligence in machines that are programmed to think like humans and mimic their actions.\n",
      "You: Hi\n",
      "Bot:  Hello My name is Zoya\n",
      "You: Want help\n",
      "Bot:  Hi my name is John, I am here to help you\n",
      "You: exit\n",
      "Thank you for your time, Have a good day!\n"
     ]
    }
   ],
   "source": [
    "# Run the final file\n",
    "%run 'chatbot_main_code.py'\n"
   ]
  }
 ],
 "metadata": {
  "colab": {
   "collapsed_sections": [],
   "name": "M10S4_Solution_LSTM.ipynb",
   "provenance": []
  },
  "kernelspec": {
   "display_name": "Python 3 (ipykernel)",
   "language": "python",
   "name": "python3"
  },
  "language_info": {
   "codemirror_mode": {
    "name": "ipython",
    "version": 3
   },
   "file_extension": ".py",
   "mimetype": "text/x-python",
   "name": "python",
   "nbconvert_exporter": "python",
   "pygments_lexer": "ipython3",
   "version": "3.7.9"
  }
 },
 "nbformat": 4,
 "nbformat_minor": 1
}
