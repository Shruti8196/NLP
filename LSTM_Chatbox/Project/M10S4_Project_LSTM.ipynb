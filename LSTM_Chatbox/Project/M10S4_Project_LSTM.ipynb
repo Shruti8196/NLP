{
  "nbformat": 4,
  "nbformat_minor": 0,
  "metadata": {
    "colab": {
      "name": "M10S4_Project_LSTM.ipynb",
      "provenance": [],
      "collapsed_sections": []
    },
    "kernelspec": {
      "name": "python3",
      "display_name": "Python 3"
    },
    "language_info": {
      "name": "python"
    }
  },
  "cells": [
    {
      "cell_type": "markdown",
      "source": [
        "# Section: RNN & LSTM\n",
        "\n",
        "\n",
        "\n"
      ],
      "metadata": {
        "id": "TMm1ZRziGCXW"
      }
    },
    {
      "cell_type": "markdown",
      "source": [
        "## <font color='#4073FF'>Project: Chatbot</font>"
      ],
      "metadata": {
        "id": "X5UkoiXcGCRN"
      }
    },
    {
      "cell_type": "markdown",
      "source": [
        "###  <font color='#14AAF5'> Train a bot that can hold basic conservations.</font>"
      ],
      "metadata": {
        "id": "ZHQk77qMGCGw"
      }
    },
    {
      "cell_type": "markdown",
      "source": [
        "### Project Brief:\n",
        "\n",
        "Normal Neural Networks are feedforward neural networks wherein the input data travels only in one direction i.e forward from the input nodes through the hidden layers and finally to the output layer. Recurrent Neural Networks, on the other hand, are a bit complicated. The data travels in cycles through different layers.\n",
        "\n",
        "Long Short-Term Memory Network or LSTM, is a variation of a recurrent neural network (RNN) that is quite effective in predicting the long sequences of data like sentences and stock prices over a period of time.\n",
        "\n",
        "You need to create a project where a chatbot automatically answers you using a LSTM network. Chatbots are fast and easy to access, and chatbots can be good sources of information if trained that way. A study also found that people felt it was important for chatbots to be humanlike, because they would want the chatbots to provide emotional support."
      ],
      "metadata": {
        "id": "mwGMegfMGCAJ"
      }
    },
    {
      "cell_type": "markdown",
      "source": [
        "### 1. Dataset\n",
        "\n",
        "In this project, you will be creating your own data by running the \"data_generation.py\" file. You would need to input conversations which will later be used to train the chatbot. Right now, the files Qus_data.txt and Ans_data.txt consists of some custom data. You can generate and use your own data instead."
      ],
      "metadata": {
        "id": "-2h83hNGI2IY"
      }
    },
    {
      "cell_type": "markdown",
      "source": [
        "### Project Instructions:\n",
        "\n",
        "- Fill in the files Chatbot_train.py and chatbot_main_code.py in that order.\n",
        "- Refer the comments in these files for further instructions.\n"
      ],
      "metadata": {
        "id": "OT4ZmV6AcZ0O"
      }
    },
    {
      "cell_type": "code",
      "execution_count": 1,
      "metadata": {
        "colab": {
          "base_uri": "https://localhost:8080/"
        },
        "id": "Cy9hF4dm7a0W",
        "outputId": "6683d056-866b-48e8-8f32-e778400a5461"
      },
      "outputs": [
        {
          "output_type": "stream",
          "name": "stdout",
          "text": [
            "Mounted at /content/gdrive\n"
          ]
        }
      ],
      "source": [
        "# Please upload chatbot folder to your drive before performing any actions\n",
        "\n",
        "# Mount your drive to access the chatbot folder\n",
        "from google.colab import drive\n",
        "drive.mount('/content/gdrive')"
      ]
    },
    {
      "cell_type": "code",
      "source": [
        "# cd into chatbot directory\n",
        "%cd 'gdrive/MyDrive/chatbot'"
      ],
      "metadata": {
        "colab": {
          "base_uri": "https://localhost:8080/"
        },
        "id": "5aBXqcXN_xpD",
        "outputId": "bfcee83e-6ac5-4eb9-90fa-0b25c78338ee"
      },
      "execution_count": 2,
      "outputs": [
        {
          "output_type": "stream",
          "name": "stdout",
          "text": [
            "/content/gdrive/MyDrive/chatbot\n"
          ]
        }
      ]
    },
    {
      "cell_type": "code",
      "source": [
        "# check current directory\n",
        "!pwd"
      ],
      "metadata": {
        "colab": {
          "base_uri": "https://localhost:8080/"
        },
        "id": "YG2gRWpd_7Ux",
        "outputId": "519d91ba-5d06-4524-e8c5-b2df7ab31b3d"
      },
      "execution_count": 3,
      "outputs": [
        {
          "output_type": "stream",
          "name": "stdout",
          "text": [
            "/content/gdrive/MyDrive/chatbot\n"
          ]
        }
      ]
    },
    {
      "cell_type": "code",
      "source": [
        "# generate your data\n",
        "# %run 'data_generation.py'"
      ],
      "metadata": {
        "id": "Vc_RF_YxO3sl"
      },
      "execution_count": 4,
      "outputs": []
    },
    {
      "cell_type": "code",
      "source": [
        "# perform training\n",
        "# %run Chatbot_train.py"
      ],
      "metadata": {
        "id": "g7aWITigRAFF"
      },
      "execution_count": 7,
      "outputs": []
    },
    {
      "cell_type": "code",
      "source": [
        "# Run the final file\n",
        "# %run 'chatbot_main_code.py'\n"
      ],
      "metadata": {
        "id": "JDzAILmj7e0y"
      },
      "execution_count": 10,
      "outputs": []
    }
  ]
}