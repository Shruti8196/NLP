{
  "nbformat": 4,
  "nbformat_minor": 0,
  "metadata": {
    "colab": {
      "provenance": []
    },
    "kernelspec": {
      "name": "python3",
      "display_name": "Python 3"
    }
  },
  "cells": [
    {
      "cell_type": "markdown",
      "source": [
        "# Module: Natural Language Processing & Generation"
      ],
      "metadata": {
        "id": "oi-OvHMd77i0"
      }
    },
    {
      "cell_type": "markdown",
      "source": [
        "# Section: Topic Modelling"
      ],
      "metadata": {
        "id": "OyTINlCEzKF-"
      }
    },
    {
      "cell_type": "markdown",
      "source": [
        "## <font color='#4073FF'>Project Solution: Comcast Consumer Complaints - Topic Modelling </font>"
      ],
      "metadata": {
        "id": "y_hb6jYZzJ-v"
      }
    },
    {
      "cell_type": "markdown",
      "source": [
        "###  <font color='#14AAF5'> Use Latent Dirichlet Allocation (LDA) to classify text in a document to a particular topic. </font>"
      ],
      "metadata": {
        "id": "_agEEwaP7o1z"
      }
    },
    {
      "cell_type": "markdown",
      "source": [
        "### Project Brief:\n",
        "\n",
        "For a service provider, customer complaints may carry a negative connotation; however, they serve as source of insights on what areas should be worked on and upgraded. \n",
        "\n",
        "1. They can help provide better understanding about consumers.\n",
        "2. They provide an opportunity for the service provider to resolve the customer’s problems on time and thus reduce dissatisfaction levels.\n",
        "3. Customers who have had a problem resolved by a service provide efficiently, often have a stronger loyalty to the company.\n"
      ],
      "metadata": {
        "id": "MuKDeYwc73Hj"
      }
    },
    {
      "cell_type": "markdown",
      "source": [
        "\n",
        "### 1. Dataset:\n",
        "\n",
        "Comcast was once notorious for terrible customer service and despite repeated promises to improve, they continued to fall short. On October 2016 the FCC fined them a $2.3 million after receiving over 1000 consumer complaints. \n",
        "\n",
        "This dataset includes public customer complaints filed against Comcast. You are required to pin down what is wrong with Comcast's customer service."
      ],
      "metadata": {
        "id": "V4jHEaHY8Bnw"
      }
    },
    {
      "cell_type": "code",
      "source": [
        "# Importing Libraries\n",
        "import pandas as pd\n",
        "import numpy as np\n",
        "import matplotlib.pyplot as plt\n",
        "import seaborn as sns"
      ],
      "metadata": {
        "id": "WRyGxVqQ_-aL"
      },
      "execution_count": null,
      "outputs": []
    },
    {
      "cell_type": "markdown",
      "source": [
        "### 2. Data collection and exploration"
      ],
      "metadata": {
        "id": "BDjOYAVzCQC1"
      }
    },
    {
      "cell_type": "code",
      "source": [
        "# Collecting data\n",
        "url = \"https://raw.githubusercontent.com/bluedataconsulting/AIMasteryProgram/main/Projects/Module-10/comcast_consumeraffairs_complaints.csv\"\n",
        "df = pd.read_csv(url,usecols=[\"author\",\"posted_on\",\"rating\",\"text\"])"
      ],
      "metadata": {
        "id": "S-eXiOET_-X6"
      },
      "execution_count": null,
      "outputs": []
    },
    {
      "cell_type": "code",
      "source": [
        "# Viewing Data\n",
        "df.head(10)"
      ],
      "metadata": {
        "colab": {
          "base_uri": "https://localhost:8080/",
          "height": 363
        },
        "id": "F_f83-ci_-VZ",
        "outputId": "e180e944-b2a1-438c-f919-8b0bb93d4497"
      },
      "execution_count": null,
      "outputs": [
        {
          "output_type": "execute_result",
          "data": {
            "text/plain": [
              "                         author      posted_on  rating  \\\n",
              "0   Alantae of Chesterfeild, MI  Nov. 22, 2016       1   \n",
              "1      Vera of Philadelphia, PA  Nov. 19, 2016       1   \n",
              "2   Sarah of Rancho Cordova, CA  Nov. 17, 2016       1   \n",
              "3      Dennis of Manchester, NH  Nov. 16, 2016       1   \n",
              "4          Ryan of Bellevue, WA  Nov. 14, 2016       1   \n",
              "5           Terri of Mobile, AL   Nov. 9, 2016       1   \n",
              "6  Kellie of Salt Lake City, UT   Nov. 9, 2016       1   \n",
              "7     Kathleen of New Haven, CT   Nov. 6, 2016       2   \n",
              "8       Shira of Bloomfield, NJ   Nov. 5, 2016       1   \n",
              "9      Kristy of Alpharetta, GA   Nov. 2, 2016       1   \n",
              "\n",
              "                                                text  \n",
              "0  I used to love Comcast. Until all these consta...  \n",
              "1  I'm so over Comcast! The worst internet provid...  \n",
              "2  If I could give them a negative star or no sta...  \n",
              "3  I've had the worst experiences so far since in...  \n",
              "4  Check your contract when you sign up for Comca...  \n",
              "5  Thank God. I am changing to Dish. They gave me...  \n",
              "6  I Have been a long time customer and only have...  \n",
              "7  There is a malfunction on the DVR manager whic...  \n",
              "8  Charges overwhelming. Comcast service rep was ...  \n",
              "9  I have had cable, DISH, and U-verse, etc. in t...  "
            ],
            "text/html": [
              "\n",
              "  <div id=\"df-de74d841-662e-4c57-94d3-ce90a8f95bf1\">\n",
              "    <div class=\"colab-df-container\">\n",
              "      <div>\n",
              "<style scoped>\n",
              "    .dataframe tbody tr th:only-of-type {\n",
              "        vertical-align: middle;\n",
              "    }\n",
              "\n",
              "    .dataframe tbody tr th {\n",
              "        vertical-align: top;\n",
              "    }\n",
              "\n",
              "    .dataframe thead th {\n",
              "        text-align: right;\n",
              "    }\n",
              "</style>\n",
              "<table border=\"1\" class=\"dataframe\">\n",
              "  <thead>\n",
              "    <tr style=\"text-align: right;\">\n",
              "      <th></th>\n",
              "      <th>author</th>\n",
              "      <th>posted_on</th>\n",
              "      <th>rating</th>\n",
              "      <th>text</th>\n",
              "    </tr>\n",
              "  </thead>\n",
              "  <tbody>\n",
              "    <tr>\n",
              "      <th>0</th>\n",
              "      <td>Alantae of Chesterfeild, MI</td>\n",
              "      <td>Nov. 22, 2016</td>\n",
              "      <td>1</td>\n",
              "      <td>I used to love Comcast. Until all these consta...</td>\n",
              "    </tr>\n",
              "    <tr>\n",
              "      <th>1</th>\n",
              "      <td>Vera of Philadelphia, PA</td>\n",
              "      <td>Nov. 19, 2016</td>\n",
              "      <td>1</td>\n",
              "      <td>I'm so over Comcast! The worst internet provid...</td>\n",
              "    </tr>\n",
              "    <tr>\n",
              "      <th>2</th>\n",
              "      <td>Sarah of Rancho Cordova, CA</td>\n",
              "      <td>Nov. 17, 2016</td>\n",
              "      <td>1</td>\n",
              "      <td>If I could give them a negative star or no sta...</td>\n",
              "    </tr>\n",
              "    <tr>\n",
              "      <th>3</th>\n",
              "      <td>Dennis of Manchester, NH</td>\n",
              "      <td>Nov. 16, 2016</td>\n",
              "      <td>1</td>\n",
              "      <td>I've had the worst experiences so far since in...</td>\n",
              "    </tr>\n",
              "    <tr>\n",
              "      <th>4</th>\n",
              "      <td>Ryan of Bellevue, WA</td>\n",
              "      <td>Nov. 14, 2016</td>\n",
              "      <td>1</td>\n",
              "      <td>Check your contract when you sign up for Comca...</td>\n",
              "    </tr>\n",
              "    <tr>\n",
              "      <th>5</th>\n",
              "      <td>Terri of Mobile, AL</td>\n",
              "      <td>Nov. 9, 2016</td>\n",
              "      <td>1</td>\n",
              "      <td>Thank God. I am changing to Dish. They gave me...</td>\n",
              "    </tr>\n",
              "    <tr>\n",
              "      <th>6</th>\n",
              "      <td>Kellie of Salt Lake City, UT</td>\n",
              "      <td>Nov. 9, 2016</td>\n",
              "      <td>1</td>\n",
              "      <td>I Have been a long time customer and only have...</td>\n",
              "    </tr>\n",
              "    <tr>\n",
              "      <th>7</th>\n",
              "      <td>Kathleen of New Haven, CT</td>\n",
              "      <td>Nov. 6, 2016</td>\n",
              "      <td>2</td>\n",
              "      <td>There is a malfunction on the DVR manager whic...</td>\n",
              "    </tr>\n",
              "    <tr>\n",
              "      <th>8</th>\n",
              "      <td>Shira of Bloomfield, NJ</td>\n",
              "      <td>Nov. 5, 2016</td>\n",
              "      <td>1</td>\n",
              "      <td>Charges overwhelming. Comcast service rep was ...</td>\n",
              "    </tr>\n",
              "    <tr>\n",
              "      <th>9</th>\n",
              "      <td>Kristy of Alpharetta, GA</td>\n",
              "      <td>Nov. 2, 2016</td>\n",
              "      <td>1</td>\n",
              "      <td>I have had cable, DISH, and U-verse, etc. in t...</td>\n",
              "    </tr>\n",
              "  </tbody>\n",
              "</table>\n",
              "</div>\n",
              "      <button class=\"colab-df-convert\" onclick=\"convertToInteractive('df-de74d841-662e-4c57-94d3-ce90a8f95bf1')\"\n",
              "              title=\"Convert this dataframe to an interactive table.\"\n",
              "              style=\"display:none;\">\n",
              "        \n",
              "  <svg xmlns=\"http://www.w3.org/2000/svg\" height=\"24px\"viewBox=\"0 0 24 24\"\n",
              "       width=\"24px\">\n",
              "    <path d=\"M0 0h24v24H0V0z\" fill=\"none\"/>\n",
              "    <path d=\"M18.56 5.44l.94 2.06.94-2.06 2.06-.94-2.06-.94-.94-2.06-.94 2.06-2.06.94zm-11 1L8.5 8.5l.94-2.06 2.06-.94-2.06-.94L8.5 2.5l-.94 2.06-2.06.94zm10 10l.94 2.06.94-2.06 2.06-.94-2.06-.94-.94-2.06-.94 2.06-2.06.94z\"/><path d=\"M17.41 7.96l-1.37-1.37c-.4-.4-.92-.59-1.43-.59-.52 0-1.04.2-1.43.59L10.3 9.45l-7.72 7.72c-.78.78-.78 2.05 0 2.83L4 21.41c.39.39.9.59 1.41.59.51 0 1.02-.2 1.41-.59l7.78-7.78 2.81-2.81c.8-.78.8-2.07 0-2.86zM5.41 20L4 18.59l7.72-7.72 1.47 1.35L5.41 20z\"/>\n",
              "  </svg>\n",
              "      </button>\n",
              "      \n",
              "  <style>\n",
              "    .colab-df-container {\n",
              "      display:flex;\n",
              "      flex-wrap:wrap;\n",
              "      gap: 12px;\n",
              "    }\n",
              "\n",
              "    .colab-df-convert {\n",
              "      background-color: #E8F0FE;\n",
              "      border: none;\n",
              "      border-radius: 50%;\n",
              "      cursor: pointer;\n",
              "      display: none;\n",
              "      fill: #1967D2;\n",
              "      height: 32px;\n",
              "      padding: 0 0 0 0;\n",
              "      width: 32px;\n",
              "    }\n",
              "\n",
              "    .colab-df-convert:hover {\n",
              "      background-color: #E2EBFA;\n",
              "      box-shadow: 0px 1px 2px rgba(60, 64, 67, 0.3), 0px 1px 3px 1px rgba(60, 64, 67, 0.15);\n",
              "      fill: #174EA6;\n",
              "    }\n",
              "\n",
              "    [theme=dark] .colab-df-convert {\n",
              "      background-color: #3B4455;\n",
              "      fill: #D2E3FC;\n",
              "    }\n",
              "\n",
              "    [theme=dark] .colab-df-convert:hover {\n",
              "      background-color: #434B5C;\n",
              "      box-shadow: 0px 1px 3px 1px rgba(0, 0, 0, 0.15);\n",
              "      filter: drop-shadow(0px 1px 2px rgba(0, 0, 0, 0.3));\n",
              "      fill: #FFFFFF;\n",
              "    }\n",
              "  </style>\n",
              "\n",
              "      <script>\n",
              "        const buttonEl =\n",
              "          document.querySelector('#df-de74d841-662e-4c57-94d3-ce90a8f95bf1 button.colab-df-convert');\n",
              "        buttonEl.style.display =\n",
              "          google.colab.kernel.accessAllowed ? 'block' : 'none';\n",
              "\n",
              "        async function convertToInteractive(key) {\n",
              "          const element = document.querySelector('#df-de74d841-662e-4c57-94d3-ce90a8f95bf1');\n",
              "          const dataTable =\n",
              "            await google.colab.kernel.invokeFunction('convertToInteractive',\n",
              "                                                     [key], {});\n",
              "          if (!dataTable) return;\n",
              "\n",
              "          const docLinkHtml = 'Like what you see? Visit the ' +\n",
              "            '<a target=\"_blank\" href=https://colab.research.google.com/notebooks/data_table.ipynb>data table notebook</a>'\n",
              "            + ' to learn more about interactive tables.';\n",
              "          element.innerHTML = '';\n",
              "          dataTable['output_type'] = 'display_data';\n",
              "          await google.colab.output.renderOutput(dataTable, element);\n",
              "          const docLink = document.createElement('div');\n",
              "          docLink.innerHTML = docLinkHtml;\n",
              "          element.appendChild(docLink);\n",
              "        }\n",
              "      </script>\n",
              "    </div>\n",
              "  </div>\n",
              "  "
            ]
          },
          "metadata": {},
          "execution_count": 3
        }
      ]
    },
    {
      "cell_type": "code",
      "source": [
        "# Shape of data\n",
        "df.shape"
      ],
      "metadata": {
        "colab": {
          "base_uri": "https://localhost:8080/"
        },
        "id": "KECW85jPIstP",
        "outputId": "ff4c61d2-a679-453d-9953-b4ec5f1364fd"
      },
      "execution_count": null,
      "outputs": [
        {
          "output_type": "execute_result",
          "data": {
            "text/plain": [
              "(5659, 4)"
            ]
          },
          "metadata": {},
          "execution_count": 4
        }
      ]
    },
    {
      "cell_type": "code",
      "source": [
        "# Viewing a complaint\n",
        "df.loc[0,'text']"
      ],
      "metadata": {
        "colab": {
          "base_uri": "https://localhost:8080/",
          "height": 53
        },
        "id": "hbWFUAYh_-S0",
        "outputId": "aff186f3-c02d-4ea5-e8e8-7baa92819ce8"
      },
      "execution_count": null,
      "outputs": [
        {
          "output_type": "execute_result",
          "data": {
            "text/plain": [
              "\"I used to love Comcast. Until all these constant updates. My internet and cable crash a lot at night, and sometimes during the day, some channels don't even work and on demand sometimes don't play either. I wish they will do something about it. Because just a few mins ago, the internet have crashed for about 20 mins for no reason. I'm tired of it and thinking about switching to Wow or something. Please do not get Xfinity.\""
            ],
            "application/vnd.google.colaboratory.intrinsic+json": {
              "type": "string"
            }
          },
          "metadata": {},
          "execution_count": 5
        }
      ]
    },
    {
      "cell_type": "code",
      "source": [
        "complaints = df['text']\n",
        "print(len(complaints))"
      ],
      "metadata": {
        "colab": {
          "base_uri": "https://localhost:8080/"
        },
        "id": "fNNW6AtOIjmM",
        "outputId": "ece2026d-4edd-4c92-a9d2-a2163c10c73a"
      },
      "execution_count": null,
      "outputs": [
        {
          "output_type": "stream",
          "name": "stdout",
          "text": [
            "5659\n"
          ]
        }
      ]
    },
    {
      "cell_type": "markdown",
      "source": [
        "### 3. Data cleaning and pre-processing"
      ],
      "metadata": {
        "id": "4NgNh1AgILkz"
      }
    },
    {
      "cell_type": "code",
      "source": [
        "import nltk\n",
        "import gensim\n",
        "from gensim.utils import simple_preprocess\n",
        "import gensim.corpora as corpora\n",
        "nltk.download(\"stopwords\")"
      ],
      "metadata": {
        "colab": {
          "base_uri": "https://localhost:8080/"
        },
        "id": "uADSSNHyI2M0",
        "outputId": "e290ff4b-053b-447a-845c-829a729024ed"
      },
      "execution_count": null,
      "outputs": [
        {
          "output_type": "stream",
          "name": "stdout",
          "text": [
            "[nltk_data] Downloading package stopwords to /root/nltk_data...\n",
            "[nltk_data]   Unzipping corpora/stopwords.zip.\n"
          ]
        },
        {
          "output_type": "execute_result",
          "data": {
            "text/plain": [
              "True"
            ]
          },
          "metadata": {},
          "execution_count": 7
        }
      ]
    },
    {
      "cell_type": "code",
      "source": [
        "# we will drop any complaint having size less than 20 characters\n",
        "\n",
        "complaints = [doc for doc in complaints if len(str(doc))>20]\n",
        "len(complaints)"
      ],
      "metadata": {
        "colab": {
          "base_uri": "https://localhost:8080/"
        },
        "id": "1upS283cHkZq",
        "outputId": "5590de5f-48d9-4574-f122-fcec63080778"
      },
      "execution_count": null,
      "outputs": [
        {
          "output_type": "execute_result",
          "data": {
            "text/plain": [
              "5629"
            ]
          },
          "metadata": {},
          "execution_count": 8
        }
      ]
    },
    {
      "cell_type": "code",
      "source": [
        "from nltk.corpus import stopwords\n",
        "\n",
        "# Printing stop words in english\n",
        "stop_words = stopwords.words(\"english\")\n",
        "print(stop_words)"
      ],
      "metadata": {
        "colab": {
          "base_uri": "https://localhost:8080/"
        },
        "id": "oYdbs62oHkU8",
        "outputId": "c04037ea-0819-4640-dfed-9ca75ca077b6"
      },
      "execution_count": null,
      "outputs": [
        {
          "output_type": "stream",
          "name": "stdout",
          "text": [
            "['i', 'me', 'my', 'myself', 'we', 'our', 'ours', 'ourselves', 'you', \"you're\", \"you've\", \"you'll\", \"you'd\", 'your', 'yours', 'yourself', 'yourselves', 'he', 'him', 'his', 'himself', 'she', \"she's\", 'her', 'hers', 'herself', 'it', \"it's\", 'its', 'itself', 'they', 'them', 'their', 'theirs', 'themselves', 'what', 'which', 'who', 'whom', 'this', 'that', \"that'll\", 'these', 'those', 'am', 'is', 'are', 'was', 'were', 'be', 'been', 'being', 'have', 'has', 'had', 'having', 'do', 'does', 'did', 'doing', 'a', 'an', 'the', 'and', 'but', 'if', 'or', 'because', 'as', 'until', 'while', 'of', 'at', 'by', 'for', 'with', 'about', 'against', 'between', 'into', 'through', 'during', 'before', 'after', 'above', 'below', 'to', 'from', 'up', 'down', 'in', 'out', 'on', 'off', 'over', 'under', 'again', 'further', 'then', 'once', 'here', 'there', 'when', 'where', 'why', 'how', 'all', 'any', 'both', 'each', 'few', 'more', 'most', 'other', 'some', 'such', 'no', 'nor', 'not', 'only', 'own', 'same', 'so', 'than', 'too', 'very', 's', 't', 'can', 'will', 'just', 'don', \"don't\", 'should', \"should've\", 'now', 'd', 'll', 'm', 'o', 're', 've', 'y', 'ain', 'aren', \"aren't\", 'couldn', \"couldn't\", 'didn', \"didn't\", 'doesn', \"doesn't\", 'hadn', \"hadn't\", 'hasn', \"hasn't\", 'haven', \"haven't\", 'isn', \"isn't\", 'ma', 'mightn', \"mightn't\", 'mustn', \"mustn't\", 'needn', \"needn't\", 'shan', \"shan't\", 'shouldn', \"shouldn't\", 'wasn', \"wasn't\", 'weren', \"weren't\", 'won', \"won't\", 'wouldn', \"wouldn't\"]\n"
          ]
        }
      ]
    },
    {
      "cell_type": "code",
      "source": [
        "# removing stop words\n",
        "complaints = [[word for word in simple_preprocess(str(doc)) if word not in stop_words] for doc in complaints]"
      ],
      "metadata": {
        "id": "GXXxTNzgHkSe"
      },
      "execution_count": null,
      "outputs": []
    },
    {
      "cell_type": "code",
      "source": [
        "# making bigrams\n",
        "\n",
        "#Automatically detects commmon words\n",
        "bigrams = gensim.models.Phrases(complaints,min_count=5,threshold=100)\n",
        "bigram_mod = gensim.models.phrases.Phraser(bigrams)\n",
        "bigram_data = [bigram_mod[doc] for doc in complaints]"
      ],
      "metadata": {
        "id": "rGUsULpC_-QV"
      },
      "execution_count": null,
      "outputs": []
    },
    {
      "cell_type": "code",
      "source": [
        "# Lemmatization usign spacy\n",
        "# Removing inflections\n",
        "import spacy\n",
        "\n",
        "nlp = spacy.load('en',disable = ['parser','ner'])\n",
        "clean_data = []\n",
        "allowed_postags = ['NOUN','ADJ','VERB','ADV']\n",
        "for sent in bigram_data:\n",
        "    doc = nlp(\" \".join(sent))\n",
        "    clean_data.append([token.lemma_ for token in doc if token.pos_ in allowed_postags])"
      ],
      "metadata": {
        "id": "9refHMkYJWgX"
      },
      "execution_count": null,
      "outputs": []
    },
    {
      "cell_type": "code",
      "source": [
        "clean_data[0]"
      ],
      "metadata": {
        "colab": {
          "base_uri": "https://localhost:8080/"
        },
        "id": "dj8i0eW2JWcV",
        "outputId": "59da7730-14bb-47ba-f029-730a7d27f19e"
      },
      "execution_count": null,
      "outputs": [
        {
          "output_type": "execute_result",
          "data": {
            "text/plain": [
              "['use',\n",
              " 'love',\n",
              " 'constant',\n",
              " 'update',\n",
              " 'cable',\n",
              " 'crash',\n",
              " 'lot',\n",
              " 'night',\n",
              " 'sometimes',\n",
              " 'day',\n",
              " 'channel',\n",
              " 'even',\n",
              " 'work',\n",
              " 'demand',\n",
              " 'sometimes',\n",
              " 'play',\n",
              " 'wish',\n",
              " 'min',\n",
              " 'ago',\n",
              " 'internet',\n",
              " 'crash',\n",
              " 'min',\n",
              " 'reason',\n",
              " 'tired',\n",
              " 'thinking',\n",
              " 'switch',\n",
              " 'xfinity']"
            ]
          },
          "metadata": {},
          "execution_count": 13
        }
      ]
    },
    {
      "cell_type": "markdown",
      "source": [
        "### 4. Modelling\n",
        "\n",
        "### Methodology- Topic Modelling\n",
        "\n",
        "Topic modelling is a type of statistical modelling for discovering the abstract “topics” that occur in a collection of documents. Latent Dirichlet Allocation (LDA) is an example of topic model and is used to classify text in a document to a particular topic. It builds a topic per document model and words per topic model, modeled as Dirichlet distributions."
      ],
      "metadata": {
        "id": "tdJgmG6TJhmQ"
      }
    },
    {
      "cell_type": "code",
      "source": [
        "# create a dictionary\n",
        "dictionary = corpora.Dictionary(clean_data)\n",
        "\n",
        "# corpus\n",
        "corpus = [dictionary.doc2bow(doc) for doc in clean_data]\n",
        "\n",
        "# LDA Model\n",
        "lda_model = gensim.models.ldamodel.LdaModel(corpus=corpus,id2word=dictionary,num_topics=10,\n",
        "                                           random_state=5,update_every=1,chunksize=50,\n",
        "                                           passes=10,alpha='auto',per_word_topics=True)\n",
        "\n",
        " \n",
        "# chunksize (int, optional) – Number of documents to be used in each training chunk.\n",
        "# passes (int, optional) – Number of passes through the corpus during training.\n",
        "# update_every (int, optional) – Number of documents to be iterated through for each update. Set to 0 for batch learning, > 1 for online iterative learning."
      ],
      "metadata": {
        "id": "fLbZduo3JWY-"
      },
      "execution_count": null,
      "outputs": []
    },
    {
      "cell_type": "code",
      "source": [
        "# print words occuring in all topics and their relative weights\n",
        "\n",
        "for topic in lda_model.print_topics():\n",
        "    print(topic)\n",
        "    print(\"\\n\")"
      ],
      "metadata": {
        "colab": {
          "base_uri": "https://localhost:8080/"
        },
        "id": "7xxvz1DiJtGT",
        "outputId": "31232306-babb-492f-8fce-d23f5a031b2f"
      },
      "execution_count": null,
      "outputs": [
        {
          "output_type": "stream",
          "name": "stdout",
          "text": [
            "(0, '0.070*\"receive\" + 0.048*\"service\" + 0.031*\"state\" + 0.031*\"comcast\" + 0.030*\"issue\" + 0.026*\"contact\" + 0.024*\"representative\" + 0.022*\"disconnect\" + 0.021*\"customer\" + 0.021*\"speak\"')\n",
            "\n",
            "\n",
            "(1, '0.128*\"call\" + 0.052*\"tell\" + 0.050*\"would\" + 0.047*\"say\" + 0.044*\"phone\" + 0.040*\"time\" + 0.032*\"day\" + 0.022*\"back\" + 0.022*\"supervisor\" + 0.020*\"hour\"')\n",
            "\n",
            "\n",
            "(2, '0.088*\"cable\" + 0.074*\"box\" + 0.071*\"come\" + 0.067*\"work\" + 0.048*\"tech\" + 0.043*\"line\" + 0.035*\"home\" + 0.028*\"technician\" + 0.023*\"signal\" + 0.019*\"house\"')\n",
            "\n",
            "\n",
            "(3, '0.053*\"comcast\" + 0.020*\"get\" + 0.020*\"new\" + 0.018*\"channel\" + 0.018*\"know\" + 0.016*\"try\" + 0.015*\"go\" + 0.015*\"need\" + 0.014*\"order\" + 0.014*\"also\"')\n",
            "\n",
            "\n",
            "(4, '0.122*\"service\" + 0.046*\"internet\" + 0.042*\"customer\" + 0.032*\"cable\" + 0.023*\"company\" + 0.022*\"year\" + 0.022*\"get\" + 0.018*\"time\" + 0.018*\"comcast\" + 0.018*\"tv\"')\n",
            "\n",
            "\n",
            "(5, '0.163*\"problem\" + 0.061*\"fix\" + 0.028*\"connection\" + 0.015*\"dvr\" + 0.012*\"trouble\" + 0.012*\"break\" + 0.010*\"course\" + 0.010*\"damage\" + 0.010*\"rewire\" + 0.010*\"picture\"')\n",
            "\n",
            "\n",
            "(6, '0.074*\"movie\" + 0.071*\"contract\" + 0.027*\"purchase\" + 0.024*\"operator\" + 0.024*\"outage\" + 0.023*\"product\" + 0.017*\"honor\" + 0.017*\"simple\" + 0.017*\"sign\" + 0.014*\"neighborhood\"')\n",
            "\n",
            "\n",
            "(7, '0.073*\"email\" + 0.055*\"situation\" + 0.043*\"ticket\" + 0.035*\"cut\" + 0.032*\"digital\" + 0.031*\"wife\" + 0.031*\"miss\" + 0.025*\"open\" + 0.023*\"repair\" + 0.021*\"regard\"')\n",
            "\n",
            "\n",
            "(8, '0.101*\"bill\" + 0.101*\"pay\" + 0.100*\"month\" + 0.072*\"charge\" + 0.045*\"credit\" + 0.035*\"tell\" + 0.023*\"fee\" + 0.021*\"would\" + 0.015*\"amount\" + 0.012*\"say\"')\n",
            "\n",
            "\n",
            "(9, '0.104*\"account\" + 0.063*\"due\" + 0.060*\"payment\" + 0.056*\"hold\" + 0.038*\"late\" + 0.023*\"check\" + 0.021*\"balance\" + 0.020*\"stop\" + 0.020*\"money\" + 0.019*\"dollar\"')\n",
            "\n",
            "\n"
          ]
        }
      ]
    },
    {
      "cell_type": "code",
      "source": [
        "!pip install pyLDAvis"
      ],
      "metadata": {
        "colab": {
          "base_uri": "https://localhost:8080/"
        },
        "id": "J4BRfB55KfXP",
        "outputId": "a2ede172-903e-48eb-eaad-ca173a74b781"
      },
      "execution_count": null,
      "outputs": [
        {
          "output_type": "stream",
          "name": "stdout",
          "text": [
            "Collecting pyLDAvis\n",
            "  Downloading pyLDAvis-3.3.1.tar.gz (1.7 MB)\n",
            "\u001b[?25l\r\u001b[K     |▏                               | 10 kB 22.8 MB/s eta 0:00:01\r\u001b[K     |▍                               | 20 kB 26.5 MB/s eta 0:00:01\r\u001b[K     |▋                               | 30 kB 31.0 MB/s eta 0:00:01\r\u001b[K     |▉                               | 40 kB 30.4 MB/s eta 0:00:01\r\u001b[K     |█                               | 51 kB 23.7 MB/s eta 0:00:01\r\u001b[K     |█▏                              | 61 kB 25.8 MB/s eta 0:00:01\r\u001b[K     |█▍                              | 71 kB 25.2 MB/s eta 0:00:01\r\u001b[K     |█▋                              | 81 kB 25.2 MB/s eta 0:00:01\r\u001b[K     |█▉                              | 92 kB 27.1 MB/s eta 0:00:01\r\u001b[K     |██                              | 102 kB 28.6 MB/s eta 0:00:01\r\u001b[K     |██▏                             | 112 kB 28.6 MB/s eta 0:00:01\r\u001b[K     |██▍                             | 122 kB 28.6 MB/s eta 0:00:01\r\u001b[K     |██▋                             | 133 kB 28.6 MB/s eta 0:00:01\r\u001b[K     |██▊                             | 143 kB 28.6 MB/s eta 0:00:01\r\u001b[K     |███                             | 153 kB 28.6 MB/s eta 0:00:01\r\u001b[K     |███▏                            | 163 kB 28.6 MB/s eta 0:00:01\r\u001b[K     |███▍                            | 174 kB 28.6 MB/s eta 0:00:01\r\u001b[K     |███▋                            | 184 kB 28.6 MB/s eta 0:00:01\r\u001b[K     |███▊                            | 194 kB 28.6 MB/s eta 0:00:01\r\u001b[K     |████                            | 204 kB 28.6 MB/s eta 0:00:01\r\u001b[K     |████▏                           | 215 kB 28.6 MB/s eta 0:00:01\r\u001b[K     |████▍                           | 225 kB 28.6 MB/s eta 0:00:01\r\u001b[K     |████▋                           | 235 kB 28.6 MB/s eta 0:00:01\r\u001b[K     |████▊                           | 245 kB 28.6 MB/s eta 0:00:01\r\u001b[K     |█████                           | 256 kB 28.6 MB/s eta 0:00:01\r\u001b[K     |█████▏                          | 266 kB 28.6 MB/s eta 0:00:01\r\u001b[K     |█████▍                          | 276 kB 28.6 MB/s eta 0:00:01\r\u001b[K     |█████▌                          | 286 kB 28.6 MB/s eta 0:00:01\r\u001b[K     |█████▊                          | 296 kB 28.6 MB/s eta 0:00:01\r\u001b[K     |██████                          | 307 kB 28.6 MB/s eta 0:00:01\r\u001b[K     |██████▏                         | 317 kB 28.6 MB/s eta 0:00:01\r\u001b[K     |██████▍                         | 327 kB 28.6 MB/s eta 0:00:01\r\u001b[K     |██████▌                         | 337 kB 28.6 MB/s eta 0:00:01\r\u001b[K     |██████▊                         | 348 kB 28.6 MB/s eta 0:00:01\r\u001b[K     |███████                         | 358 kB 28.6 MB/s eta 0:00:01\r\u001b[K     |███████▏                        | 368 kB 28.6 MB/s eta 0:00:01\r\u001b[K     |███████▎                        | 378 kB 28.6 MB/s eta 0:00:01\r\u001b[K     |███████▌                        | 389 kB 28.6 MB/s eta 0:00:01\r\u001b[K     |███████▊                        | 399 kB 28.6 MB/s eta 0:00:01\r\u001b[K     |████████                        | 409 kB 28.6 MB/s eta 0:00:01\r\u001b[K     |████████▏                       | 419 kB 28.6 MB/s eta 0:00:01\r\u001b[K     |████████▎                       | 430 kB 28.6 MB/s eta 0:00:01\r\u001b[K     |████████▌                       | 440 kB 28.6 MB/s eta 0:00:01\r\u001b[K     |████████▊                       | 450 kB 28.6 MB/s eta 0:00:01\r\u001b[K     |█████████                       | 460 kB 28.6 MB/s eta 0:00:01\r\u001b[K     |█████████▏                      | 471 kB 28.6 MB/s eta 0:00:01\r\u001b[K     |█████████▎                      | 481 kB 28.6 MB/s eta 0:00:01\r\u001b[K     |█████████▌                      | 491 kB 28.6 MB/s eta 0:00:01\r\u001b[K     |█████████▊                      | 501 kB 28.6 MB/s eta 0:00:01\r\u001b[K     |██████████                      | 512 kB 28.6 MB/s eta 0:00:01\r\u001b[K     |██████████                      | 522 kB 28.6 MB/s eta 0:00:01\r\u001b[K     |██████████▎                     | 532 kB 28.6 MB/s eta 0:00:01\r\u001b[K     |██████████▌                     | 542 kB 28.6 MB/s eta 0:00:01\r\u001b[K     |██████████▊                     | 552 kB 28.6 MB/s eta 0:00:01\r\u001b[K     |███████████                     | 563 kB 28.6 MB/s eta 0:00:01\r\u001b[K     |███████████                     | 573 kB 28.6 MB/s eta 0:00:01\r\u001b[K     |███████████▎                    | 583 kB 28.6 MB/s eta 0:00:01\r\u001b[K     |███████████▌                    | 593 kB 28.6 MB/s eta 0:00:01\r\u001b[K     |███████████▊                    | 604 kB 28.6 MB/s eta 0:00:01\r\u001b[K     |███████████▉                    | 614 kB 28.6 MB/s eta 0:00:01\r\u001b[K     |████████████                    | 624 kB 28.6 MB/s eta 0:00:01\r\u001b[K     |████████████▎                   | 634 kB 28.6 MB/s eta 0:00:01\r\u001b[K     |████████████▌                   | 645 kB 28.6 MB/s eta 0:00:01\r\u001b[K     |████████████▊                   | 655 kB 28.6 MB/s eta 0:00:01\r\u001b[K     |████████████▉                   | 665 kB 28.6 MB/s eta 0:00:01\r\u001b[K     |█████████████                   | 675 kB 28.6 MB/s eta 0:00:01\r\u001b[K     |█████████████▎                  | 686 kB 28.6 MB/s eta 0:00:01\r\u001b[K     |█████████████▌                  | 696 kB 28.6 MB/s eta 0:00:01\r\u001b[K     |█████████████▊                  | 706 kB 28.6 MB/s eta 0:00:01\r\u001b[K     |█████████████▉                  | 716 kB 28.6 MB/s eta 0:00:01\r\u001b[K     |██████████████                  | 727 kB 28.6 MB/s eta 0:00:01\r\u001b[K     |██████████████▎                 | 737 kB 28.6 MB/s eta 0:00:01\r\u001b[K     |██████████████▌                 | 747 kB 28.6 MB/s eta 0:00:01\r\u001b[K     |██████████████▋                 | 757 kB 28.6 MB/s eta 0:00:01\r\u001b[K     |██████████████▉                 | 768 kB 28.6 MB/s eta 0:00:01\r\u001b[K     |███████████████                 | 778 kB 28.6 MB/s eta 0:00:01\r\u001b[K     |███████████████▎                | 788 kB 28.6 MB/s eta 0:00:01\r\u001b[K     |███████████████▌                | 798 kB 28.6 MB/s eta 0:00:01\r\u001b[K     |███████████████▋                | 808 kB 28.6 MB/s eta 0:00:01\r\u001b[K     |███████████████▉                | 819 kB 28.6 MB/s eta 0:00:01\r\u001b[K     |████████████████                | 829 kB 28.6 MB/s eta 0:00:01\r\u001b[K     |████████████████▎               | 839 kB 28.6 MB/s eta 0:00:01\r\u001b[K     |████████████████▍               | 849 kB 28.6 MB/s eta 0:00:01\r\u001b[K     |████████████████▋               | 860 kB 28.6 MB/s eta 0:00:01\r\u001b[K     |████████████████▉               | 870 kB 28.6 MB/s eta 0:00:01\r\u001b[K     |█████████████████               | 880 kB 28.6 MB/s eta 0:00:01\r\u001b[K     |█████████████████▎              | 890 kB 28.6 MB/s eta 0:00:01\r\u001b[K     |█████████████████▍              | 901 kB 28.6 MB/s eta 0:00:01\r\u001b[K     |█████████████████▋              | 911 kB 28.6 MB/s eta 0:00:01\r\u001b[K     |█████████████████▉              | 921 kB 28.6 MB/s eta 0:00:01\r\u001b[K     |██████████████████              | 931 kB 28.6 MB/s eta 0:00:01\r\u001b[K     |██████████████████▎             | 942 kB 28.6 MB/s eta 0:00:01\r\u001b[K     |██████████████████▍             | 952 kB 28.6 MB/s eta 0:00:01\r\u001b[K     |██████████████████▋             | 962 kB 28.6 MB/s eta 0:00:01\r\u001b[K     |██████████████████▉             | 972 kB 28.6 MB/s eta 0:00:01\r\u001b[K     |███████████████████             | 983 kB 28.6 MB/s eta 0:00:01\r\u001b[K     |███████████████████▏            | 993 kB 28.6 MB/s eta 0:00:01\r\u001b[K     |███████████████████▍            | 1.0 MB 28.6 MB/s eta 0:00:01\r\u001b[K     |███████████████████▋            | 1.0 MB 28.6 MB/s eta 0:00:01\r\u001b[K     |███████████████████▉            | 1.0 MB 28.6 MB/s eta 0:00:01\r\u001b[K     |████████████████████            | 1.0 MB 28.6 MB/s eta 0:00:01\r\u001b[K     |████████████████████▏           | 1.0 MB 28.6 MB/s eta 0:00:01\r\u001b[K     |████████████████████▍           | 1.1 MB 28.6 MB/s eta 0:00:01\r\u001b[K     |████████████████████▋           | 1.1 MB 28.6 MB/s eta 0:00:01\r\u001b[K     |████████████████████▉           | 1.1 MB 28.6 MB/s eta 0:00:01\r\u001b[K     |█████████████████████           | 1.1 MB 28.6 MB/s eta 0:00:01\r\u001b[K     |█████████████████████▏          | 1.1 MB 28.6 MB/s eta 0:00:01\r\u001b[K     |█████████████████████▍          | 1.1 MB 28.6 MB/s eta 0:00:01\r\u001b[K     |█████████████████████▋          | 1.1 MB 28.6 MB/s eta 0:00:01\r\u001b[K     |█████████████████████▉          | 1.1 MB 28.6 MB/s eta 0:00:01\r\u001b[K     |██████████████████████          | 1.1 MB 28.6 MB/s eta 0:00:01\r\u001b[K     |██████████████████████▏         | 1.1 MB 28.6 MB/s eta 0:00:01\r\u001b[K     |██████████████████████▍         | 1.2 MB 28.6 MB/s eta 0:00:01\r\u001b[K     |██████████████████████▋         | 1.2 MB 28.6 MB/s eta 0:00:01\r\u001b[K     |██████████████████████▉         | 1.2 MB 28.6 MB/s eta 0:00:01\r\u001b[K     |███████████████████████         | 1.2 MB 28.6 MB/s eta 0:00:01\r\u001b[K     |███████████████████████▏        | 1.2 MB 28.6 MB/s eta 0:00:01\r\u001b[K     |███████████████████████▍        | 1.2 MB 28.6 MB/s eta 0:00:01\r\u001b[K     |███████████████████████▋        | 1.2 MB 28.6 MB/s eta 0:00:01\r\u001b[K     |███████████████████████▊        | 1.2 MB 28.6 MB/s eta 0:00:01\r\u001b[K     |████████████████████████        | 1.2 MB 28.6 MB/s eta 0:00:01\r\u001b[K     |████████████████████████▏       | 1.2 MB 28.6 MB/s eta 0:00:01\r\u001b[K     |████████████████████████▍       | 1.3 MB 28.6 MB/s eta 0:00:01\r\u001b[K     |████████████████████████▋       | 1.3 MB 28.6 MB/s eta 0:00:01\r\u001b[K     |████████████████████████▊       | 1.3 MB 28.6 MB/s eta 0:00:01\r\u001b[K     |█████████████████████████       | 1.3 MB 28.6 MB/s eta 0:00:01\r\u001b[K     |█████████████████████████▏      | 1.3 MB 28.6 MB/s eta 0:00:01\r\u001b[K     |█████████████████████████▍      | 1.3 MB 28.6 MB/s eta 0:00:01\r\u001b[K     |█████████████████████████▌      | 1.3 MB 28.6 MB/s eta 0:00:01\r\u001b[K     |█████████████████████████▊      | 1.3 MB 28.6 MB/s eta 0:00:01\r\u001b[K     |██████████████████████████      | 1.3 MB 28.6 MB/s eta 0:00:01\r\u001b[K     |██████████████████████████▏     | 1.4 MB 28.6 MB/s eta 0:00:01\r\u001b[K     |██████████████████████████▍     | 1.4 MB 28.6 MB/s eta 0:00:01\r\u001b[K     |██████████████████████████▌     | 1.4 MB 28.6 MB/s eta 0:00:01\r\u001b[K     |██████████████████████████▊     | 1.4 MB 28.6 MB/s eta 0:00:01\r\u001b[K     |███████████████████████████     | 1.4 MB 28.6 MB/s eta 0:00:01\r\u001b[K     |███████████████████████████▏    | 1.4 MB 28.6 MB/s eta 0:00:01\r\u001b[K     |███████████████████████████▍    | 1.4 MB 28.6 MB/s eta 0:00:01\r\u001b[K     |███████████████████████████▌    | 1.4 MB 28.6 MB/s eta 0:00:01\r\u001b[K     |███████████████████████████▊    | 1.4 MB 28.6 MB/s eta 0:00:01\r\u001b[K     |████████████████████████████    | 1.4 MB 28.6 MB/s eta 0:00:01\r\u001b[K     |████████████████████████████▏   | 1.5 MB 28.6 MB/s eta 0:00:01\r\u001b[K     |████████████████████████████▎   | 1.5 MB 28.6 MB/s eta 0:00:01\r\u001b[K     |████████████████████████████▌   | 1.5 MB 28.6 MB/s eta 0:00:01\r\u001b[K     |████████████████████████████▊   | 1.5 MB 28.6 MB/s eta 0:00:01\r\u001b[K     |█████████████████████████████   | 1.5 MB 28.6 MB/s eta 0:00:01\r\u001b[K     |█████████████████████████████▏  | 1.5 MB 28.6 MB/s eta 0:00:01\r\u001b[K     |█████████████████████████████▎  | 1.5 MB 28.6 MB/s eta 0:00:01\r\u001b[K     |█████████████████████████████▌  | 1.5 MB 28.6 MB/s eta 0:00:01\r\u001b[K     |█████████████████████████████▊  | 1.5 MB 28.6 MB/s eta 0:00:01\r\u001b[K     |██████████████████████████████  | 1.5 MB 28.6 MB/s eta 0:00:01\r\u001b[K     |██████████████████████████████▏ | 1.6 MB 28.6 MB/s eta 0:00:01\r\u001b[K     |██████████████████████████████▎ | 1.6 MB 28.6 MB/s eta 0:00:01\r\u001b[K     |██████████████████████████████▌ | 1.6 MB 28.6 MB/s eta 0:00:01\r\u001b[K     |██████████████████████████████▊ | 1.6 MB 28.6 MB/s eta 0:00:01\r\u001b[K     |███████████████████████████████ | 1.6 MB 28.6 MB/s eta 0:00:01\r\u001b[K     |███████████████████████████████ | 1.6 MB 28.6 MB/s eta 0:00:01\r\u001b[K     |███████████████████████████████▎| 1.6 MB 28.6 MB/s eta 0:00:01\r\u001b[K     |███████████████████████████████▌| 1.6 MB 28.6 MB/s eta 0:00:01\r\u001b[K     |███████████████████████████████▊| 1.6 MB 28.6 MB/s eta 0:00:01\r\u001b[K     |████████████████████████████████| 1.6 MB 28.6 MB/s eta 0:00:01\r\u001b[K     |████████████████████████████████| 1.7 MB 28.6 MB/s \n",
            "\u001b[?25h  Installing build dependencies ... \u001b[?25l\u001b[?25hdone\n",
            "  Getting requirements to build wheel ... \u001b[?25l\u001b[?25hdone\n",
            "  Installing backend dependencies ... \u001b[?25l\u001b[?25hdone\n",
            "    Preparing wheel metadata ... \u001b[?25l\u001b[?25hdone\n",
            "Requirement already satisfied: future in /usr/local/lib/python3.7/dist-packages (from pyLDAvis) (0.16.0)\n",
            "Requirement already satisfied: pandas>=1.2.0 in /usr/local/lib/python3.7/dist-packages (from pyLDAvis) (1.3.5)\n",
            "Requirement already satisfied: setuptools in /usr/local/lib/python3.7/dist-packages (from pyLDAvis) (57.4.0)\n",
            "Requirement already satisfied: numexpr in /usr/local/lib/python3.7/dist-packages (from pyLDAvis) (2.8.1)\n",
            "Requirement already satisfied: sklearn in /usr/local/lib/python3.7/dist-packages (from pyLDAvis) (0.0)\n",
            "Requirement already satisfied: gensim in /usr/local/lib/python3.7/dist-packages (from pyLDAvis) (3.6.0)\n",
            "Requirement already satisfied: scikit-learn in /usr/local/lib/python3.7/dist-packages (from pyLDAvis) (1.0.2)\n",
            "Requirement already satisfied: jinja2 in /usr/local/lib/python3.7/dist-packages (from pyLDAvis) (2.11.3)\n",
            "Collecting funcy\n",
            "  Downloading funcy-1.17-py2.py3-none-any.whl (33 kB)\n",
            "Requirement already satisfied: scipy in /usr/local/lib/python3.7/dist-packages (from pyLDAvis) (1.4.1)\n",
            "Requirement already satisfied: joblib in /usr/local/lib/python3.7/dist-packages (from pyLDAvis) (1.1.0)\n",
            "Requirement already satisfied: numpy>=1.20.0 in /usr/local/lib/python3.7/dist-packages (from pyLDAvis) (1.21.6)\n",
            "Requirement already satisfied: pytz>=2017.3 in /usr/local/lib/python3.7/dist-packages (from pandas>=1.2.0->pyLDAvis) (2022.1)\n",
            "Requirement already satisfied: python-dateutil>=2.7.3 in /usr/local/lib/python3.7/dist-packages (from pandas>=1.2.0->pyLDAvis) (2.8.2)\n",
            "Requirement already satisfied: six>=1.5 in /usr/local/lib/python3.7/dist-packages (from python-dateutil>=2.7.3->pandas>=1.2.0->pyLDAvis) (1.15.0)\n",
            "Requirement already satisfied: smart-open>=1.2.1 in /usr/local/lib/python3.7/dist-packages (from gensim->pyLDAvis) (6.0.0)\n",
            "Requirement already satisfied: MarkupSafe>=0.23 in /usr/local/lib/python3.7/dist-packages (from jinja2->pyLDAvis) (2.0.1)\n",
            "Requirement already satisfied: packaging in /usr/local/lib/python3.7/dist-packages (from numexpr->pyLDAvis) (21.3)\n",
            "Requirement already satisfied: pyparsing!=3.0.5,>=2.0.2 in /usr/local/lib/python3.7/dist-packages (from packaging->numexpr->pyLDAvis) (3.0.8)\n",
            "Requirement already satisfied: threadpoolctl>=2.0.0 in /usr/local/lib/python3.7/dist-packages (from scikit-learn->pyLDAvis) (3.1.0)\n",
            "Building wheels for collected packages: pyLDAvis\n",
            "  Building wheel for pyLDAvis (PEP 517) ... \u001b[?25l\u001b[?25hdone\n",
            "  Created wheel for pyLDAvis: filename=pyLDAvis-3.3.1-py2.py3-none-any.whl size=136898 sha256=a555cc75729f363557df87f8be95c962dc934c5d21f3d9fe3136ee5f358adb19\n",
            "  Stored in directory: /root/.cache/pip/wheels/c9/21/f6/17bcf2667e8a68532ba2fbf6d5c72fdf4c7f7d9abfa4852d2f\n",
            "Successfully built pyLDAvis\n",
            "Installing collected packages: funcy, pyLDAvis\n",
            "Successfully installed funcy-1.17 pyLDAvis-3.3.1\n"
          ]
        }
      ]
    },
    {
      "cell_type": "markdown",
      "source": [
        "### 5. Visualizing Results"
      ],
      "metadata": {
        "id": "TtkAYyusNNMc"
      }
    },
    {
      "cell_type": "code",
      "source": [
        "# Display a viz\n",
        "import pyLDAvis\n",
        "import pyLDAvis.gensim_models as gensimvis\n",
        "pyLDAvis.enable_notebook()\n",
        "\n",
        "# feed the LDA model into the pyLDAvis instance\n",
        "lda_viz = gensimvis.prepare(lda_model, corpus, dictionary)"
      ],
      "metadata": {
        "colab": {
          "base_uri": "https://localhost:8080/"
        },
        "id": "e9ii-PDbKjsS",
        "outputId": "f94991ff-de9f-4883-e072-167de0ed0f75"
      },
      "execution_count": null,
      "outputs": [
        {
          "output_type": "stream",
          "name": "stderr",
          "text": [
            "/usr/local/lib/python3.7/dist-packages/past/types/oldstr.py:5: DeprecationWarning: Using or importing the ABCs from 'collections' instead of from 'collections.abc' is deprecated since Python 3.3,and in 3.9 it will stop working\n",
            "  from collections import Iterable\n",
            "/usr/local/lib/python3.7/dist-packages/pyLDAvis/_prepare.py:247: FutureWarning: In a future version of pandas all arguments of DataFrame.drop except for the argument 'labels' will be keyword-only\n",
            "  by='saliency', ascending=False).head(R).drop('saliency', 1)\n"
          ]
        }
      ]
    },
    {
      "cell_type": "code",
      "source": [
        "lda_viz"
      ],
      "metadata": {
        "colab": {
          "base_uri": "https://localhost:8080/",
          "height": 862
        },
        "id": "wn2QElR7Js_S",
        "outputId": "3416bbd0-7a13-44c1-9ad6-fc6d6903fcad"
      },
      "execution_count": null,
      "outputs": [
        {
          "output_type": "execute_result",
          "data": {
            "text/plain": [
              "PreparedData(topic_coordinates=              x         y  topics  cluster       Freq\n",
              "topic                                                \n",
              "1     -0.229114  0.155649       1        1  22.130068\n",
              "3     -0.231988 -0.050247       2        1  20.932920\n",
              "4     -0.179075 -0.101281       3        1  18.698458\n",
              "8     -0.157524  0.048221       4        1   9.163662\n",
              "0     -0.070502 -0.260177       5        1   8.832348\n",
              "2      0.057804  0.329751       6        1   7.255439\n",
              "5      0.193777  0.009003       7        1   5.054249\n",
              "9      0.165972 -0.061217       8        1   3.791004\n",
              "7      0.230800 -0.018297       9        1   2.193456\n",
              "6      0.219849 -0.051405      10        1   1.948395, topic_info=            Term          Freq         Total Category  logprob  loglift\n",
              "58          call  14045.000000  14045.000000  Default  30.0000  30.0000\n",
              "45       service  14701.000000  14701.000000  Default  29.0000  29.0000\n",
              "41       problem   4094.000000   4094.000000  Default  28.0000  28.0000\n",
              "55          bill   4613.000000   4613.000000  Default  27.0000  27.0000\n",
              "38           pay   5026.000000   5026.000000  Default  26.0000  26.0000\n",
              "...          ...           ...           ...      ...      ...      ...\n",
              "824         rain     50.211858     50.993719  Topic10  -5.2601   3.9227\n",
              "3850      season     49.863691     50.645613  Topic10  -5.2670   3.9226\n",
              "1774  outrageous     49.697893     50.479727  Topic10  -5.2704   3.9226\n",
              "204          isp     47.574575     48.357282  Topic10  -5.3140   3.9218\n",
              "168         sign    159.772546    749.776868  Topic10  -4.1026   2.3921\n",
              "\n",
              "[486 rows x 6 columns], token_table=      Topic      Freq     Term\n",
              "term                          \n",
              "2050     10  0.995884  ability\n",
              "175       1  0.007010     able\n",
              "175       2  0.993044     able\n",
              "2026      5  0.992798   accept\n",
              "50        2  0.999372   access\n",
              "...     ...       ...      ...\n",
              "121       5  0.018754    would\n",
              "992       6  0.989908     yard\n",
              "174       2  0.010317     year\n",
              "174       3  0.977338     year\n",
              "174       4  0.012193     year\n",
              "\n",
              "[641 rows x 3 columns], R=30, lambda_step=0.01, plot_opts={'xlab': 'PC1', 'ylab': 'PC2'}, topic_order=[2, 4, 5, 9, 1, 3, 6, 10, 8, 7])"
            ],
            "text/html": [
              "\n",
              "<link rel=\"stylesheet\" type=\"text/css\" href=\"https://cdn.jsdelivr.net/gh/bmabey/pyLDAvis@3.3.1/pyLDAvis/js/ldavis.v1.0.0.css\">\n",
              "\n",
              "\n",
              "<div id=\"ldavis_el601400257233937444536067745\"></div>\n",
              "<script type=\"text/javascript\">\n",
              "\n",
              "var ldavis_el601400257233937444536067745_data = {\"mdsDat\": {\"x\": [-0.22911409830320822, -0.2319882746664414, -0.1790746503181513, -0.15752378653232058, -0.07050153572809491, 0.057804024503822764, 0.1937770962445079, 0.16597182531326676, 0.2308000512531891, 0.21984934823342997], \"y\": [0.15564896418188534, -0.050247432953232744, -0.10128060529063272, 0.04822132305092927, -0.26017725145402554, 0.32975123936093015, 0.009003277397524047, -0.061217264788707815, -0.018296992684145273, -0.05140525682052456], \"topics\": [1, 2, 3, 4, 5, 6, 7, 8, 9, 10], \"cluster\": [1, 1, 1, 1, 1, 1, 1, 1, 1, 1], \"Freq\": [22.130068405638507, 20.93292042245663, 18.69845829042007, 9.163661527394162, 8.832348345125778, 7.255438676728514, 5.054249263930105, 3.791004000580304, 2.1934558968257933, 1.9483951709001337]}, \"tinfo\": {\"Term\": [\"call\", \"service\", \"problem\", \"bill\", \"pay\", \"cable\", \"month\", \"tell\", \"come\", \"charge\", \"receive\", \"internet\", \"comcast\", \"box\", \"work\", \"say\", \"phone\", \"account\", \"would\", \"customer\", \"day\", \"credit\", \"fix\", \"tech\", \"time\", \"line\", \"due\", \"home\", \"payment\", \"company\", \"day\", \"supervisor\", \"hour\", \"number\", \"call\", \"wait\", \"appointment\", \"minute\", \"schedule\", \"cell\", \"morning\", \"pm\", \"evening\", \"whole\", \"early\", \"sit\", \"dead\", \"contractor\", \"garage\", \"lady\", \"reschedule\", \"woman\", \"manager\", \"unacceptable\", \"walk\", \"afternoon\", \"tomorrow\", \"assign\", \"fair\", \"appt\", \"back\", \"phone\", \"finally\", \"say\", \"show\", \"later\", \"week\", \"ask\", \"today\", \"would\", \"tell\", \"talk\", \"put\", \"follow\", \"time\", \"could\", \"still\", \"give\", \"next\", \"person\", \"take\", \"speak\", \"go\", \"come\", \"never\", \"work\", \"get\", \"make\", \"new\", \"channel\", \"modem\", \"right\", \"office\", \"may\", \"long\", \"old\", \"name\", \"continue\", \"access\", \"notice\", \"complete\", \"computer\", \"let\", \"local\", \"free\", \"include\", \"arrive\", \"live\", \"decide\", \"complaint\", \"record\", \"believe\", \"fact\", \"television\", \"away\", \"error\", \"fail\", \"screen\", \"able\", \"hear\", \"system\", \"thing\", \"feel\", \"know\", \"order\", \"help\", \"try\", \"ago\", \"comcast\", \"need\", \"start\", \"also\", \"move\", \"find\", \"get\", \"make\", \"can\", \"take\", \"want\", \"go\", \"send\", \"see\", \"change\", \"could\", \"company\", \"price\", \"deal\", \"bad\", \"cost\", \"promise\", \"much\", \"basic\", \"high\", \"rate\", \"provider\", \"always\", \"monthly\", \"complain\", \"increase\", \"less\", \"speed\", \"assure\", \"slow\", \"force\", \"lot\", \"excuse\", \"stay\", \"horrible\", \"big\", \"game\", \"network\", \"low\", \"sound\", \"advertise\", \"internet\", \"really\", \"year\", \"poor\", \"watch\", \"area\", \"business\", \"service\", \"switch\", \"customer\", \"people\", \"offer\", \"use\", \"tv\", \"ever\", \"cable\", \"even\", \"get\", \"never\", \"time\", \"comcast\", \"go\", \"want\", \"keep\", \"bill\", \"charge\", \"credit\", \"fee\", \"amount\", \"card\", \"remove\", \"extra\", \"mistake\", \"promotion\", \"man\", \"double\", \"bank\", \"residence\", \"recieve\", \"anyway\", \"adjust\", \"argue\", \"threaten\", \"dispute\", \"taxis\", \"around\", \"adjustment\", \"attitude\", \"ahead\", \"collect\", \"advance\", \"closed\", \"meg\", \"worry\", \"month\", \"pay\", \"additional\", \"billing\", \"total\", \"sign\", \"add\", \"refuse\", \"turn\", \"package\", \"money\", \"tell\", \"full\", \"would\", \"correct\", \"first\", \"cancel\", \"send\", \"never\", \"say\", \"go\", \"get\", \"next\", \"receive\", \"state\", \"representative\", \"disconnect\", \"resolve\", \"request\", \"owe\", \"attempt\", \"matter\", \"previous\", \"process\", \"collection\", \"statement\", \"conversation\", \"agreement\", \"sale\", \"leave_voice\", \"indicate\", \"accept\", \"communication\", \"respond\", \"advise\", \"disconnected\", \"return\", \"discuss\", \"resolution\", \"occur\", \"approximately\", \"enter\", \"deny\", \"information\", \"note\", \"date\", \"contact\", \"refund\", \"employee\", \"mail\", \"current\", \"prior\", \"address\", \"report\", \"several\", \"issue\", \"numerous\", \"equipment\", \"speak\", \"letter\", \"service\", \"transfer\", \"comcast\", \"customer\", \"agree\", \"box\", \"tech\", \"signal\", \"house\", \"installation\", \"instal\", \"run\", \"install\", \"wire\", \"hook\", \"husband\", \"replace\", \"port\", \"rep\", \"visit\", \"left\", \"door\", \"child\", \"hard\", \"installer\", \"security\", \"sick\", \"property\", \"street\", \"tired\", \"weak\", \"waiting\", \"determine\", \"yard\", \"play\", \"line\", \"guy\", \"hang\", \"work\", \"come\", \"home\", \"cable\", \"technician\", \"suppose\", \"leave\", \"tv\", \"set\", \"do\", \"problem\", \"connection\", \"dvr\", \"trouble\", \"break\", \"damage\", \"picture\", \"rewire\", \"chat\", \"neighbor\", \"rebate\", \"room\", \"choice\", \"nice\", \"copy\", \"regular\", \"front\", \"nee\", \"be\", \"country\", \"frustration\", \"weekend\", \"other\", \"solve\", \"outlet\", \"update\", \"subscribe\", \"high_speed\", \"utility\", \"power\", \"fix\", \"course\", \"unable\", \"require\", \"tv\", \"issue\", \"payment\", \"hold\", \"balance\", \"stop\", \"dollar\", \"program\", \"non\", \"csr\", \"interruption\", \"shut\", \"loss\", \"quality\", \"video\", \"son\", \"dept\", \"info\", \"interrupt\", \"policy\", \"stand\", \"initial\", \"log\", \"city\", \"steal\", \"commercial\", \"apply\", \"lead\", \"incorrect\", \"arrangement\", \"cash\", \"vacation\", \"due\", \"late\", \"account\", \"file\", \"remember\", \"check\", \"online\", \"money\", \"full\", \"billing\", \"make\", \"email\", \"situation\", \"ticket\", \"cut\", \"digital\", \"wife\", \"miss\", \"open\", \"repair\", \"regard\", \"dispatch\", \"case\", \"tonight\", \"various\", \"verify\", \"form\", \"repeatedly\", \"mother\", \"block\", \"forward\", \"code\", \"fill\", \"hospital\", \"submit\", \"attorney\", \"certainly\", \"difficult\", \"action\", \"com\", \"helpful\", \"possible\", \"must_approve\", \"movie\", \"contract\", \"purchase\", \"operator\", \"outage\", \"product\", \"honor\", \"simple\", \"neighborhood\", \"aware\", \"contacted\", \"limit\", \"lock\", \"ability\", \"downgrade\", \"therefore\", \"poorly\", \"advantage\", \"daily\", \"alarm\", \"create\", \"reassure\", \"temporary\", \"quite\", \"made\", \"sub\", \"rain\", \"season\", \"outrageous\", \"isp\", \"sign\"], \"Freq\": [14045.0, 14701.0, 4094.0, 4613.0, 5026.0, 6111.0, 4609.0, 7318.0, 3840.0, 3257.0, 3048.0, 4316.0, 8450.0, 2676.0, 3501.0, 5748.0, 5000.0, 2179.0, 6985.0, 4934.0, 3488.0, 2038.0, 1548.0, 1715.0, 6615.0, 1583.0, 1196.0, 1771.0, 1128.0, 2178.0, 3487.2863954397544, 2403.136535238036, 2187.561391743129, 2136.096735047951, 14040.141713707892, 1920.9532686046407, 1332.0039568515756, 1189.9460122585167, 741.4998102042352, 368.8672993153376, 368.30978462014735, 347.5208588894178, 205.81793339688147, 283.1816283952689, 187.9277594542728, 184.65066399732154, 183.80409080272457, 170.93901297868683, 151.98778205773257, 206.7111046057525, 139.5708426792533, 134.5447752361939, 474.63587086889834, 115.53181408788261, 108.10381455195086, 107.94037642618649, 107.32154048237115, 99.0283144874889, 92.78681337534984, 90.61672110116416, 2452.2017137127336, 4824.039515571673, 1180.5063741458678, 5199.412874116395, 1757.6734176095476, 957.3400741621431, 1602.9966387308543, 1915.0719499495153, 757.6099425576914, 5486.94987039546, 5722.625091630601, 875.4646791596634, 873.2675431668262, 283.9793158508098, 4428.465470518652, 1984.8921856037011, 1703.1576773291742, 1637.323143907423, 824.3794524830724, 788.5981588345375, 1384.3993468960393, 955.4082631216727, 1566.801305238539, 1275.7267451725982, 1103.5566167465777, 985.7483503530259, 1049.8710010474247, 879.2769744097418, 2066.051656005251, 1889.8438244516328, 1225.1530173980007, 968.1319322762996, 773.0832167745729, 739.0260832604351, 717.9334152705436, 688.7544218278526, 683.8222671797904, 681.2475562421814, 671.6378456442485, 646.1205762705337, 634.5121812673484, 624.5733057428076, 623.9448120523241, 567.2031037782158, 558.3348000636015, 528.1468414095589, 503.79018425907213, 499.33144295484567, 467.4497380514474, 467.13648252117486, 425.14984474668506, 390.1083838249427, 380.1800017320273, 371.4006745805037, 354.65487437380045, 324.15810901763984, 297.3621642257047, 288.4848661411258, 849.7070282122618, 554.8884089486704, 684.3664265626488, 958.2196530070306, 642.5041625491749, 1848.0000811031935, 1505.0311177274884, 1020.6873899706467, 1674.2145397660636, 745.8889809707375, 5459.536919668013, 1535.2006524301519, 878.015695468808, 1413.4332277172257, 901.5810414897207, 1163.676692117257, 2116.5742893739425, 1280.5269044419008, 760.5082171411594, 1239.9666480160447, 1072.5887732126216, 1563.0054415413692, 824.3875866209405, 759.0749691229829, 695.9086210686215, 698.9645307993368, 2177.7026667593573, 1032.2676581822882, 1014.8610977457371, 993.9805338209632, 702.2483415337923, 693.6144757288355, 678.6965537546034, 618.314480393182, 606.6599429405626, 540.8078669465212, 528.3579794052658, 511.1962483991383, 499.3635746425199, 479.58612539561426, 410.65968633153625, 403.5228306836349, 402.4126752158656, 363.1055866095526, 308.66319704019196, 308.11805416322284, 279.09710605450033, 259.3066335060293, 257.11988510885334, 243.66230071114913, 240.7395953916801, 210.00587795071414, 208.9670374775866, 202.47577474907663, 202.4072674313893, 201.12614603461213, 4295.201482851352, 656.3484818783104, 2083.8044464976456, 407.13713162951746, 692.6683317902332, 1013.1797743953829, 957.9400693635181, 11336.648293899525, 642.5036108410194, 3913.006327848722, 1197.9341617312602, 917.665282498599, 1223.8171420881715, 1642.1782863056237, 600.9678314633347, 2953.6958529612766, 1005.3109357679547, 2052.030700720225, 1147.4747642869247, 1686.554786835709, 1650.4022744702684, 1299.5954791867944, 736.7455771520096, 659.579815687613, 4613.088122450647, 3257.2044011076414, 2037.9181111357059, 1064.691112496613, 687.5998890026156, 471.4376440017918, 398.81532015897994, 328.6917024522629, 308.5633551366463, 275.34468525844443, 242.79092858317668, 182.61653774369384, 145.43089112272696, 140.44058099570088, 127.80619286688818, 126.29337244055624, 125.89071997213821, 109.91823894114526, 108.31061387363724, 107.7294234251636, 107.04930041209549, 102.39997792826786, 97.12200446107394, 94.5852050009206, 91.43472092589744, 91.33085602203892, 88.57185785336604, 86.2805745768367, 81.43040744986554, 78.5260269937221, 4541.599432222719, 4610.849983542024, 435.4977834996621, 468.18674554351117, 243.40865644611273, 511.8373976405204, 339.8584550395467, 370.7023834972342, 403.64808120887017, 517.9996040571941, 524.2052912672084, 1595.1659361893737, 275.9138518069096, 964.1521717960673, 289.8481971111117, 376.3302884416998, 343.6286462638629, 431.2697314773114, 472.90341668557295, 548.7542000183397, 485.626862116033, 478.50439486804765, 308.8220383375331, 3047.341466285494, 1342.0882810808507, 1044.5758877922824, 956.2229588043427, 826.5797594792463, 671.3741463676246, 422.3688146307351, 401.20951185702376, 340.397603375457, 324.7955546602718, 300.6168842393226, 277.993795262141, 268.79270475785717, 251.1418613640282, 235.42151329270965, 204.01582951556492, 242.77941494997373, 184.86165798101382, 175.48764801428942, 166.40638712686848, 165.93407725355814, 165.05193295165637, 164.47467779751264, 855.7927224552627, 161.95976570064414, 146.04952247452508, 139.33665631998616, 135.62677382114055, 133.42831964314556, 129.46916787319245, 540.1470659770018, 396.9917052168218, 603.7269508731539, 1155.9314512252881, 464.14836033182394, 452.0288585815006, 508.56987057728776, 258.3626312564471, 204.58828985275602, 594.6173699604979, 390.2155066715554, 672.4885434413212, 1318.6388105027527, 299.2673371001833, 671.7191691534499, 899.6963516628898, 333.81374840215835, 2116.231595910524, 472.75450586793033, 1340.4134005106064, 939.7144244399175, 343.1736187597416, 2675.774045976684, 1714.994296989768, 820.5093427811697, 670.9922030358458, 648.4405058238073, 586.7819835395325, 553.6018357799923, 444.82397790034673, 436.5200661799515, 388.6470362881115, 346.6123884422488, 339.84466016449267, 254.52355950211268, 243.98759439154213, 208.3624823129872, 205.94381550222633, 163.6802837986741, 163.67163528735546, 136.80721376440468, 136.2043236938846, 131.58307715022337, 123.53624075270767, 121.50079852924493, 114.03207991595282, 112.01675050951026, 103.5910221606962, 102.43154340050454, 114.96632864688026, 100.22482377943419, 98.00951430942814, 1542.1346911098956, 417.393280014193, 254.57131068185475, 2397.0592091797294, 2563.8293244931274, 1248.3387277694283, 3156.2394776194146, 994.3465656536692, 453.1937255751213, 562.8870853641633, 564.3567289038274, 217.62879232779764, 167.4180329530221, 4094.1341353791895, 693.2208893417603, 386.4819962677132, 306.145531664136, 290.4340407556415, 257.3357528532037, 247.9623238840272, 248.38683065580105, 211.9122205898522, 211.89134435606786, 201.13048649394102, 195.30231605663457, 193.2110848726958, 160.66688117074486, 155.66160563326378, 153.77907840843878, 151.15562002045854, 142.97625791531584, 148.343002872109, 136.18915846195276, 134.30621091027302, 130.84867225783356, 129.35065069910837, 125.87180381028385, 124.34923983354149, 116.4345902409038, 115.16087143790081, 103.58586380967596, 102.62928161855815, 102.54030075856342, 1532.6078270448202, 261.1923685027066, 158.2059725180811, 128.9733139410307, 179.41421781468242, 150.27726532730227, 1127.471795423022, 1048.2381103071652, 387.0504582933128, 384.25788836500084, 358.04824693067684, 343.15236877595714, 328.21662629054566, 226.66935497721988, 208.32892541542228, 177.63269017939052, 175.7913469362897, 145.03859928242971, 140.66503031637845, 130.79183013273544, 111.74607690450848, 108.39486337891412, 104.37548443713764, 104.2808329243703, 101.9255445778032, 100.38720352661917, 95.21483289198476, 94.9786507447029, 93.80701424515718, 91.878796186489, 87.33750277812462, 83.28705207771577, 81.76769737735334, 78.37447392330367, 77.06826903504746, 77.02956945742729, 1182.6815113797604, 709.2555224974355, 1947.8202398355868, 205.09381938023031, 90.15111707960276, 438.7749177882598, 262.85693679621363, 378.0538004776271, 222.8788981804969, 141.70464687190423, 135.49505049068048, 794.6486947057309, 598.5060302828988, 472.0892055545141, 377.3257983901779, 353.0905710215942, 335.7057990791716, 332.7313885666993, 275.5682945048302, 255.21148343860435, 233.89184803618897, 221.4913297105083, 211.05008513243695, 198.3249297784482, 177.00036918418172, 153.43244450658264, 145.4952343509255, 132.75933680894877, 115.63823491093274, 109.19360110550575, 103.22161343740973, 101.5953880539859, 97.31811228480683, 80.21055973145108, 72.34038690932265, 68.13644684144069, 67.83941014236395, 63.43778848015434, 63.42033242467389, 61.804524936770456, 56.907166500125534, 88.27936168996084, 62.59761763568027, 719.661306671367, 687.7322980226529, 262.28693922762415, 230.5161122704703, 230.068987036018, 219.9916106274756, 165.93848170060176, 164.53083388176194, 136.41870120011876, 123.09773593052711, 104.5955731031991, 104.0053263849023, 88.6679226284464, 86.5777584385388, 85.2115284413965, 83.27276749928944, 81.97932700578679, 80.49389361918169, 79.28426097614714, 76.3197135489121, 73.0585529452083, 69.1007249563727, 65.83573403683924, 56.37778406166264, 54.619579076673084, 54.447147349958094, 50.211857763802065, 49.86369060670702, 49.697893293074195, 47.57457504159043, 159.7725464008238], \"Total\": [14045.0, 14701.0, 4094.0, 4613.0, 5026.0, 6111.0, 4609.0, 7318.0, 3840.0, 3257.0, 3048.0, 4316.0, 8450.0, 2676.0, 3501.0, 5748.0, 5000.0, 2179.0, 6985.0, 4934.0, 3488.0, 2038.0, 1548.0, 1715.0, 6615.0, 1583.0, 1196.0, 1771.0, 1128.0, 2178.0, 3488.121071982127, 2403.9255444187893, 2188.350388126733, 2136.885725045134, 14045.49813522771, 1921.7422646369907, 1332.792894874235, 1190.7349767037547, 742.2887766106436, 369.6563283245989, 369.09876143574763, 348.3097780341535, 206.60694253259877, 284.3332814020755, 188.71681448749396, 185.43968926429068, 184.5933468831493, 171.72810550521243, 152.78204688923427, 207.85754984477072, 140.35976685875335, 135.33382195660212, 477.85175378187205, 116.32085249574183, 108.8928593259578, 108.72932487034329, 108.11051629525758, 99.8176146879967, 93.5759699558191, 91.40580854351697, 2491.70057695628, 5000.078911052883, 1221.2481984669753, 5748.866610960793, 1897.134554031478, 1027.098370064039, 1776.949104360494, 2187.5094356306113, 842.0264094862114, 6985.035222923734, 7318.491810883617, 1026.827193203859, 1037.190620035298, 299.46260542109735, 6615.905652115042, 2690.5223597092245, 2298.562623892028, 2493.4932290229112, 1133.901040911045, 1131.829246726335, 2693.0890862649076, 1855.8023257857428, 4938.057251465625, 3840.2666891032977, 2838.6227001100046, 3501.2582878530247, 5697.492474507011, 2674.1491654851807, 2066.8357965577948, 1890.6279689459836, 1225.9371790745365, 968.9161219709973, 773.8673440607479, 739.8102714497961, 718.7175771000194, 689.5385660539057, 684.6063872461677, 682.0317044171968, 672.4220435730132, 646.9047629115136, 635.2964605588691, 625.3575001612473, 624.7289965962505, 567.9872504205919, 559.1189068899948, 528.9309941201185, 504.57434559599125, 500.11556356073675, 468.23387201522735, 467.92062123380225, 425.9339159371606, 390.8925311844292, 380.9642684133515, 372.18483175223224, 355.4390373445315, 324.942253295853, 298.14632403805723, 289.269081435693, 855.9541832703276, 556.5936429835513, 692.7285764511407, 978.7343895330121, 654.468993502928, 2104.227378064152, 1690.6635656724145, 1109.27206692188, 2014.1666414507733, 799.4521970886858, 8450.94691365293, 1890.0521501590263, 982.421695371768, 1790.2989925517968, 1047.9811990807887, 1581.3764231630507, 5697.492474507011, 2674.1491654851807, 932.7824905308219, 2693.0890862649076, 2005.2715876932707, 4938.057251465625, 1907.1128170329132, 1225.2511971769393, 1389.112357274561, 2690.5223597092245, 2178.4772215149906, 1033.0421854092879, 1015.6356981238938, 994.7551117993414, 703.0229092414121, 694.389044511076, 679.4711442243229, 619.0890474441327, 607.4348406336712, 541.5823936854271, 529.1325630407823, 511.97079313538075, 500.1380995754317, 480.36075204880603, 411.4342274511, 404.29736543593367, 403.1872285964764, 363.880252174017, 309.4385262015382, 308.89266925711695, 279.87170214226677, 260.0813713196225, 257.8944429037181, 244.43683308367633, 241.51412258549718, 210.78044950024037, 209.74160112283593, 203.25032818983794, 203.18191916722023, 201.9007148077849, 4316.502935460173, 661.8086597020762, 2132.322079386236, 414.067574555099, 714.0556450893054, 1065.5357205887008, 1030.660144777212, 14701.288325844565, 690.3027304713977, 4934.393514732881, 1426.267722222774, 1053.6690328942714, 1545.0360289558218, 2411.937538867761, 684.6324950557729, 6111.300585035731, 1459.8265425086327, 5697.492474507011, 2838.6227001100046, 6615.905652115042, 8450.94691365293, 4938.057251465625, 2005.2715876932707, 1202.3839527243588, 4613.871712038892, 3257.987991300374, 2038.701735710053, 1065.4746685125513, 688.3835767539273, 472.2213313097257, 399.59891759944117, 329.4753148792825, 309.34697511957074, 276.12822978307497, 243.5747284599282, 183.4002219593776, 146.2144503343128, 141.22428979557543, 128.59065180363345, 127.07704776194416, 126.67430236039864, 110.70191358582552, 109.09427226429577, 108.51304411803531, 107.8328680983519, 103.18374815083736, 97.9056405395486, 95.36894829726668, 92.21839072745023, 92.1145108437492, 89.35558132499467, 87.06449971139645, 82.21542175317794, 79.309666763675, 4609.133902491206, 5026.948593337892, 484.891372094528, 610.5876818203171, 298.1076044444912, 749.776867601545, 478.63783411834913, 621.6086437394416, 739.5905227093897, 1086.0731005573398, 1258.8852898635507, 7318.491810883617, 499.4892797886697, 6985.035222923734, 677.5014577484774, 1256.4004426295767, 1104.985993517828, 1907.1128170329132, 2838.6227001100046, 5748.866610960793, 4938.057251465625, 5697.492474507011, 1133.901040911045, 3048.123295392451, 1342.870074186504, 1045.3576678035524, 957.0047792422156, 827.3615522291669, 672.155910962539, 423.1505695131074, 401.99131333572313, 341.1794086141834, 325.57737269875554, 301.3986908817511, 278.775500168198, 269.57447072873305, 251.92367856753586, 236.2033135263808, 204.79762710456038, 243.79412898079354, 185.6435346168118, 176.26948720854068, 167.18828336424966, 166.71595769538567, 165.83365099919806, 165.25653480938908, 859.8901771300065, 162.7416333964557, 146.83132772937319, 140.11852103760293, 136.4085743889587, 134.21011623293555, 130.2511840151926, 544.5743582156155, 400.4832537086897, 614.7563798602688, 1216.6291334717475, 480.43542327507487, 473.69099181434643, 558.2269844224458, 270.5019852921931, 210.41823523040722, 700.5117002605139, 439.80158081834975, 826.2923587411128, 1864.9845205292756, 328.1356399045176, 978.7394144818503, 1855.8023257857428, 416.4255137700156, 14701.288325844565, 867.8412646945678, 8450.94691365293, 4934.393514732881, 518.0042286935594, 2676.5687211032696, 1715.7889982986796, 821.3040543442145, 671.7868942324553, 649.2352303934127, 587.5767222005684, 554.3965615971175, 445.6186579908185, 437.31472220070964, 389.4417594437522, 347.40738521787165, 340.63936988017315, 255.31849347086938, 244.78243671565966, 209.15719495804248, 206.73854211131305, 164.4749480413818, 164.46645099077134, 137.6020309760313, 136.99897395766365, 132.37795136761648, 124.33104179514145, 122.29546186208064, 114.82676318128453, 112.81169964823798, 104.38584617551449, 103.22713387648515, 115.86141286714206, 101.01950563576501, 98.80431552233513, 1583.6943183727378, 458.3942234096366, 271.39196978851027, 3501.2582878530247, 3840.2666891032977, 1771.9229597595724, 6111.300585035731, 1753.9574517654278, 663.3033312791594, 1035.6504334871654, 2411.937538867761, 927.4776613348429, 893.8854161401749, 4094.9198101417833, 694.0064956973719, 387.2675286762533, 306.9311686875635, 291.2197057829411, 258.121401524469, 248.7478521134459, 249.175202422025, 212.69776570060526, 212.67686463270053, 201.91614168163642, 196.08784120186064, 193.9967278522744, 161.45259591260077, 156.44729475406487, 154.56478457936532, 151.9413707212101, 143.76187702653712, 149.16907287317417, 136.9747799965727, 135.091813720466, 131.6344023010004, 130.13625179394236, 126.65732547562764, 125.13479548482444, 117.2202015036765, 115.94651592998291, 104.37169779506613, 103.41494341074758, 103.32579841730454, 1548.0611271509094, 301.7876620231393, 301.5820854672318, 206.7482333419156, 2411.937538867761, 1864.9845205292756, 1128.2575150778243, 1049.023992529682, 387.83618970910516, 385.0437099878947, 358.8340582807111, 343.9382190531319, 329.002598886066, 227.45514891078784, 209.11506534769728, 178.41854762222434, 176.57731593887158, 145.82437953862689, 141.45090559317455, 131.57762065014762, 112.53190198117782, 109.18064968060746, 105.16128545781342, 105.066600754329, 102.71143290437082, 101.17324685477823, 96.00058579480692, 95.76457849118269, 94.59280995445145, 92.66463072061237, 88.12322204580191, 84.07304665140458, 82.55353555657867, 79.1602253068937, 77.85410012852648, 77.81553170371302, 1196.3447212711503, 741.9452420466893, 2179.5732538018774, 237.58435512649402, 93.03170583174081, 1112.074703176283, 540.6721489150051, 1258.8852898635507, 499.4892797886697, 610.5876818203171, 2674.1491654851807, 795.4455781654746, 599.3029994242526, 472.8861661634161, 378.1226906888981, 353.88753898713304, 336.50269321610983, 333.52833381022793, 276.3652057252848, 256.0083156975651, 234.68874369480713, 222.28824425134954, 211.8470071302343, 199.12194415027977, 177.79732280877718, 154.22933581192495, 146.29222083146772, 133.55631903482723, 116.43508391197693, 109.9905390558965, 104.0185978633771, 102.3922785582856, 98.11504254552948, 81.00770055196287, 73.13719309288363, 68.93333710367726, 68.63648835707004, 64.23474592650963, 64.21711612028712, 62.601387165889896, 57.704036496652364, 131.53635981000593, 78.63030682818105, 720.4429799927723, 688.5139206446814, 263.0686517318967, 231.29786434918898, 230.85065146568252, 220.77330686212804, 166.72016743831284, 165.3126262102085, 137.20047360917582, 123.87952517886926, 105.37736506375178, 104.7870768393872, 89.44969001164485, 87.35954457730962, 85.9932312245142, 84.0544685791453, 82.76121355837057, 81.27561844485136, 80.06595817838964, 77.10150412568724, 73.84023892879001, 69.88496334631802, 66.61756058569185, 57.159445091939396, 55.40204132573522, 55.22934609025783, 50.993718511617544, 50.64561312486102, 50.47972657164777, 48.35728227806219, 749.776867601545], \"Category\": [\"Default\", \"Default\", \"Default\", \"Default\", \"Default\", \"Default\", \"Default\", \"Default\", \"Default\", \"Default\", \"Default\", \"Default\", \"Default\", \"Default\", \"Default\", \"Default\", \"Default\", \"Default\", \"Default\", \"Default\", \"Default\", \"Default\", \"Default\", \"Default\", \"Default\", \"Default\", \"Default\", \"Default\", \"Default\", \"Default\", \"Topic1\", \"Topic1\", \"Topic1\", \"Topic1\", \"Topic1\", \"Topic1\", \"Topic1\", \"Topic1\", \"Topic1\", \"Topic1\", \"Topic1\", \"Topic1\", \"Topic1\", \"Topic1\", \"Topic1\", \"Topic1\", \"Topic1\", \"Topic1\", \"Topic1\", \"Topic1\", \"Topic1\", \"Topic1\", \"Topic1\", \"Topic1\", \"Topic1\", \"Topic1\", \"Topic1\", \"Topic1\", \"Topic1\", \"Topic1\", \"Topic1\", \"Topic1\", \"Topic1\", \"Topic1\", \"Topic1\", \"Topic1\", \"Topic1\", \"Topic1\", \"Topic1\", \"Topic1\", \"Topic1\", \"Topic1\", \"Topic1\", \"Topic1\", \"Topic1\", \"Topic1\", \"Topic1\", \"Topic1\", \"Topic1\", \"Topic1\", \"Topic1\", \"Topic1\", \"Topic1\", \"Topic1\", \"Topic1\", \"Topic1\", \"Topic1\", \"Topic1\", \"Topic2\", \"Topic2\", \"Topic2\", \"Topic2\", \"Topic2\", \"Topic2\", \"Topic2\", \"Topic2\", \"Topic2\", \"Topic2\", \"Topic2\", \"Topic2\", \"Topic2\", \"Topic2\", \"Topic2\", \"Topic2\", \"Topic2\", \"Topic2\", \"Topic2\", \"Topic2\", \"Topic2\", \"Topic2\", \"Topic2\", \"Topic2\", \"Topic2\", \"Topic2\", \"Topic2\", \"Topic2\", \"Topic2\", \"Topic2\", \"Topic2\", \"Topic2\", \"Topic2\", \"Topic2\", \"Topic2\", \"Topic2\", \"Topic2\", \"Topic2\", \"Topic2\", \"Topic2\", \"Topic2\", \"Topic2\", \"Topic2\", \"Topic2\", \"Topic2\", \"Topic2\", \"Topic2\", \"Topic2\", \"Topic2\", \"Topic2\", \"Topic2\", \"Topic2\", \"Topic2\", \"Topic2\", \"Topic2\", \"Topic2\", \"Topic3\", \"Topic3\", \"Topic3\", \"Topic3\", \"Topic3\", \"Topic3\", \"Topic3\", \"Topic3\", \"Topic3\", \"Topic3\", \"Topic3\", \"Topic3\", \"Topic3\", \"Topic3\", \"Topic3\", \"Topic3\", \"Topic3\", \"Topic3\", \"Topic3\", \"Topic3\", \"Topic3\", \"Topic3\", \"Topic3\", \"Topic3\", \"Topic3\", \"Topic3\", \"Topic3\", \"Topic3\", \"Topic3\", \"Topic3\", \"Topic3\", \"Topic3\", \"Topic3\", \"Topic3\", \"Topic3\", \"Topic3\", \"Topic3\", \"Topic3\", \"Topic3\", \"Topic3\", \"Topic3\", \"Topic3\", \"Topic3\", \"Topic3\", \"Topic3\", \"Topic3\", \"Topic3\", \"Topic3\", \"Topic3\", \"Topic3\", \"Topic3\", \"Topic3\", \"Topic3\", \"Topic3\", \"Topic4\", \"Topic4\", \"Topic4\", \"Topic4\", \"Topic4\", \"Topic4\", \"Topic4\", \"Topic4\", \"Topic4\", \"Topic4\", \"Topic4\", \"Topic4\", \"Topic4\", \"Topic4\", \"Topic4\", \"Topic4\", \"Topic4\", \"Topic4\", \"Topic4\", \"Topic4\", \"Topic4\", \"Topic4\", \"Topic4\", \"Topic4\", \"Topic4\", \"Topic4\", \"Topic4\", \"Topic4\", \"Topic4\", \"Topic4\", \"Topic4\", \"Topic4\", \"Topic4\", \"Topic4\", \"Topic4\", \"Topic4\", \"Topic4\", \"Topic4\", \"Topic4\", \"Topic4\", \"Topic4\", \"Topic4\", \"Topic4\", \"Topic4\", \"Topic4\", \"Topic4\", \"Topic4\", \"Topic4\", \"Topic4\", \"Topic4\", \"Topic4\", \"Topic4\", \"Topic4\", \"Topic5\", \"Topic5\", \"Topic5\", \"Topic5\", \"Topic5\", \"Topic5\", \"Topic5\", \"Topic5\", \"Topic5\", \"Topic5\", \"Topic5\", \"Topic5\", \"Topic5\", \"Topic5\", \"Topic5\", \"Topic5\", \"Topic5\", \"Topic5\", \"Topic5\", \"Topic5\", \"Topic5\", \"Topic5\", \"Topic5\", \"Topic5\", \"Topic5\", \"Topic5\", \"Topic5\", \"Topic5\", \"Topic5\", \"Topic5\", \"Topic5\", \"Topic5\", \"Topic5\", \"Topic5\", \"Topic5\", \"Topic5\", \"Topic5\", \"Topic5\", \"Topic5\", \"Topic5\", \"Topic5\", \"Topic5\", \"Topic5\", \"Topic5\", \"Topic5\", \"Topic5\", \"Topic5\", \"Topic5\", \"Topic5\", \"Topic5\", \"Topic5\", \"Topic5\", \"Topic6\", \"Topic6\", \"Topic6\", \"Topic6\", \"Topic6\", \"Topic6\", \"Topic6\", \"Topic6\", \"Topic6\", \"Topic6\", \"Topic6\", \"Topic6\", \"Topic6\", \"Topic6\", \"Topic6\", \"Topic6\", \"Topic6\", \"Topic6\", \"Topic6\", \"Topic6\", \"Topic6\", \"Topic6\", \"Topic6\", \"Topic6\", \"Topic6\", \"Topic6\", \"Topic6\", \"Topic6\", \"Topic6\", \"Topic6\", \"Topic6\", \"Topic6\", \"Topic6\", \"Topic6\", \"Topic6\", \"Topic6\", \"Topic6\", \"Topic6\", \"Topic6\", \"Topic6\", \"Topic6\", \"Topic6\", \"Topic6\", \"Topic7\", \"Topic7\", \"Topic7\", \"Topic7\", \"Topic7\", \"Topic7\", \"Topic7\", \"Topic7\", \"Topic7\", \"Topic7\", \"Topic7\", \"Topic7\", \"Topic7\", \"Topic7\", \"Topic7\", \"Topic7\", \"Topic7\", \"Topic7\", \"Topic7\", \"Topic7\", \"Topic7\", \"Topic7\", \"Topic7\", \"Topic7\", \"Topic7\", \"Topic7\", \"Topic7\", \"Topic7\", \"Topic7\", \"Topic7\", \"Topic7\", \"Topic7\", \"Topic7\", \"Topic7\", \"Topic7\", \"Topic7\", \"Topic8\", \"Topic8\", \"Topic8\", \"Topic8\", \"Topic8\", \"Topic8\", \"Topic8\", \"Topic8\", \"Topic8\", \"Topic8\", \"Topic8\", \"Topic8\", \"Topic8\", \"Topic8\", \"Topic8\", \"Topic8\", \"Topic8\", \"Topic8\", \"Topic8\", \"Topic8\", \"Topic8\", \"Topic8\", \"Topic8\", \"Topic8\", \"Topic8\", \"Topic8\", \"Topic8\", \"Topic8\", \"Topic8\", \"Topic8\", \"Topic8\", \"Topic8\", \"Topic8\", \"Topic8\", \"Topic8\", \"Topic8\", \"Topic8\", \"Topic8\", \"Topic8\", \"Topic8\", \"Topic8\", \"Topic9\", \"Topic9\", \"Topic9\", \"Topic9\", \"Topic9\", \"Topic9\", \"Topic9\", \"Topic9\", \"Topic9\", \"Topic9\", \"Topic9\", \"Topic9\", \"Topic9\", \"Topic9\", \"Topic9\", \"Topic9\", \"Topic9\", \"Topic9\", \"Topic9\", \"Topic9\", \"Topic9\", \"Topic9\", \"Topic9\", \"Topic9\", \"Topic9\", \"Topic9\", \"Topic9\", \"Topic9\", \"Topic9\", \"Topic9\", \"Topic9\", \"Topic9\", \"Topic10\", \"Topic10\", \"Topic10\", \"Topic10\", \"Topic10\", \"Topic10\", \"Topic10\", \"Topic10\", \"Topic10\", \"Topic10\", \"Topic10\", \"Topic10\", \"Topic10\", \"Topic10\", \"Topic10\", \"Topic10\", \"Topic10\", \"Topic10\", \"Topic10\", \"Topic10\", \"Topic10\", \"Topic10\", \"Topic10\", \"Topic10\", \"Topic10\", \"Topic10\", \"Topic10\", \"Topic10\", \"Topic10\", \"Topic10\", \"Topic10\"], \"logprob\": [30.0, 29.0, 28.0, 27.0, 26.0, 25.0, 24.0, 23.0, 22.0, 21.0, 20.0, 19.0, 18.0, 17.0, 16.0, 15.0, 14.0, 13.0, 12.0, 11.0, 10.0, 9.0, 8.0, 7.0, 6.0, 5.0, 4.0, 3.0, 2.0, 1.0, -3.4494, -3.8217, -3.9157, -3.9395, -2.0566, -4.0457, -4.4118, -4.5246, -4.9976, -5.6958, -5.6973, -5.7554, -6.2793, -5.9602, -6.3702, -6.3878, -6.3924, -6.465, -6.5825, -6.275, -6.6677, -6.7044, -5.4437, -6.8567, -6.9232, -6.9247, -6.9304, -7.0109, -7.076, -7.0996, -3.8015, -3.1249, -4.5326, -3.05, -4.1345, -4.7421, -4.2266, -4.0488, -4.9761, -2.9961, -2.9541, -4.8315, -4.834, -5.9574, -3.2105, -4.013, -4.166, -4.2055, -4.8916, -4.936, -4.3733, -4.7441, -4.2495, -4.455, -4.6, -4.7129, -4.6499, -4.8272, -3.9173, -4.0064, -4.4398, -4.6753, -4.9003, -4.9453, -4.9743, -5.0158, -5.023, -5.0267, -5.0409, -5.0797, -5.0978, -5.1136, -5.1146, -5.2099, -5.2257, -5.2813, -5.3285, -5.3374, -5.4034, -5.404, -5.4982, -5.5842, -5.61, -5.6334, -5.6795, -5.7694, -5.8557, -5.886, -4.8058, -5.2319, -5.0222, -4.6856, -5.0853, -4.0288, -4.2341, -4.6224, -4.1276, -4.9361, -2.9455, -4.2142, -4.773, -4.2969, -4.7465, -4.4913, -3.8931, -4.3956, -4.9167, -4.4278, -4.5728, -4.1963, -4.836, -4.9186, -5.0054, -5.0011, -3.7518, -4.4983, -4.5153, -4.5361, -4.8835, -4.8959, -4.9176, -5.0108, -5.0298, -5.1447, -5.168, -5.201, -5.2244, -5.2649, -5.42, -5.4375, -5.4403, -5.5431, -5.7055, -5.7073, -5.8062, -5.8798, -5.8882, -5.942, -5.9541, -6.0906, -6.0956, -6.1272, -6.1275, -6.1338, -3.0725, -4.9511, -3.7958, -5.4286, -4.8972, -4.5169, -4.573, -2.102, -4.9724, -3.1657, -4.3494, -4.6159, -4.328, -4.034, -5.0392, -3.447, -4.5247, -3.8112, -4.3925, -4.0073, -4.029, -4.268, -4.8355, -4.9462, -2.2879, -2.636, -3.1049, -3.7541, -4.1914, -4.5688, -4.7361, -4.9295, -4.9927, -5.1066, -5.2324, -5.5172, -5.7449, -5.7798, -5.8741, -5.886, -5.8892, -6.0248, -6.0396, -6.045, -6.0513, -6.0957, -6.1486, -6.1751, -6.209, -6.2101, -6.2408, -6.267, -6.3248, -6.3612, -2.3035, -2.2884, -4.6481, -4.5757, -5.2298, -4.4866, -4.8961, -4.8092, -4.724, -4.4746, -4.4627, -3.3498, -5.1045, -3.8533, -5.0552, -4.7941, -4.885, -4.6578, -4.5657, -4.4169, -4.5391, -4.5539, -4.9918, -2.6657, -3.4858, -3.7364, -3.8248, -3.9705, -4.1784, -4.6419, -4.6933, -4.8576, -4.9046, -4.9819, -5.0602, -5.0938, -5.1617, -5.2264, -5.3696, -5.1956, -5.4681, -5.5202, -5.5733, -5.5762, -5.5815, -5.585, -3.9357, -5.6004, -5.7038, -5.7509, -5.7779, -5.7942, -5.8243, -4.3959, -4.7038, -4.2846, -3.6351, -4.5476, -4.574, -4.4562, -5.1334, -5.3668, -4.2998, -4.7211, -4.1768, -3.5034, -4.9864, -4.1779, -3.8857, -4.8772, -3.0304, -4.5292, -3.487, -3.8422, -4.8495, -2.5991, -3.0439, -3.7812, -3.9823, -4.0165, -4.1164, -4.1746, -4.3934, -4.4123, -4.5284, -4.6429, -4.6626, -4.9517, -4.994, -5.1518, -5.1635, -5.3932, -5.3932, -5.5725, -5.5769, -5.6114, -5.6746, -5.6912, -5.7546, -5.7724, -5.8506, -5.8619, -5.7464, -5.8837, -5.906, -3.1502, -4.4571, -4.9515, -2.7091, -2.6418, -3.3615, -2.434, -3.589, -4.3748, -4.158, -4.1554, -5.1083, -5.3706, -1.8123, -3.5882, -4.1725, -4.4055, -4.4582, -4.5792, -4.6163, -4.6146, -4.7734, -4.7735, -4.8256, -4.855, -4.8658, -5.0502, -5.0819, -5.094, -5.1113, -5.1669, -5.13, -5.2155, -5.2294, -5.2555, -5.267, -5.2943, -5.3065, -5.3722, -5.3832, -5.4892, -5.4984, -5.4993, -2.7948, -4.5643, -5.0657, -5.27, -4.9399, -5.1171, -2.8142, -2.8871, -3.8834, -3.8907, -3.9613, -4.0038, -4.0483, -4.4185, -4.5028, -4.6622, -4.6727, -4.865, -4.8956, -4.9684, -5.1257, -5.1562, -5.194, -5.1949, -5.2177, -5.2329, -5.2858, -5.2883, -5.3007, -5.3215, -5.3722, -5.4197, -5.4381, -5.4805, -5.4973, -5.4978, -2.7664, -3.2778, -2.2675, -4.5185, -5.3405, -3.758, -4.2704, -3.9069, -4.4353, -4.8882, -4.933, -2.6169, -2.9004, -3.1376, -3.3617, -3.4281, -3.4786, -3.4875, -3.676, -3.7527, -3.84, -3.8944, -3.9427, -4.0049, -4.1187, -4.2616, -4.3147, -4.4063, -4.5443, -4.6017, -4.6579, -4.6738, -4.7168, -4.9102, -5.0134, -5.0733, -5.0777, -5.1448, -5.145, -5.1708, -5.2534, -4.8143, -5.1581, -2.5976, -2.6429, -3.6069, -3.736, -3.738, -3.7828, -4.0647, -4.0732, -4.2606, -4.3634, -4.5262, -4.5319, -4.6914, -4.7153, -4.7312, -4.7542, -4.7699, -4.7882, -4.8033, -4.8414, -4.8851, -4.9408, -4.9892, -5.1443, -5.176, -5.1791, -5.2601, -5.267, -5.2704, -5.314, -4.1026], \"loglift\": [30.0, 29.0, 28.0, 27.0, 26.0, 25.0, 24.0, 23.0, 22.0, 21.0, 20.0, 19.0, 18.0, 17.0, 16.0, 15.0, 14.0, 13.0, 12.0, 11.0, 10.0, 9.0, 8.0, 7.0, 6.0, 5.0, 4.0, 3.0, 2.0, 1.0, 1.508, 1.5079, 1.5079, 1.5079, 1.5079, 1.5078, 1.5076, 1.5076, 1.5072, 1.5061, 1.5061, 1.506, 1.5044, 1.5042, 1.504, 1.504, 1.5039, 1.5036, 1.503, 1.5027, 1.5026, 1.5024, 1.5015, 1.5014, 1.501, 1.501, 1.5009, 1.5003, 1.4998, 1.4996, 1.4923, 1.4724, 1.4743, 1.4078, 1.4319, 1.4379, 1.4052, 1.3752, 1.4026, 1.2668, 1.2623, 1.3488, 1.3362, 1.4551, 1.1068, 1.2041, 1.2084, 1.0876, 1.1894, 1.1469, 0.8428, 0.8443, 0.3603, 0.4062, 0.5635, 0.2408, -0.1831, 0.3959, 1.5635, 1.5634, 1.5632, 1.563, 1.5628, 1.5628, 1.5628, 1.5627, 1.5627, 1.5627, 1.5627, 1.5626, 1.5626, 1.5626, 1.5626, 1.5625, 1.5624, 1.5624, 1.5623, 1.5623, 1.5622, 1.5622, 1.562, 1.5618, 1.5618, 1.5617, 1.5616, 1.5614, 1.5612, 1.5611, 1.5565, 1.5608, 1.5517, 1.5427, 1.5454, 1.434, 1.4475, 1.4806, 1.379, 1.4945, 1.1269, 1.3559, 1.4515, 1.3275, 1.4134, 1.2571, 0.5736, 0.8275, 1.3597, 0.7882, 0.9381, 0.4135, 0.7251, 1.085, 0.8726, 0.216, 1.6764, 1.676, 1.676, 1.676, 1.6756, 1.6756, 1.6756, 1.6755, 1.6755, 1.6753, 1.6753, 1.6752, 1.6752, 1.6751, 1.6748, 1.6748, 1.6748, 1.6746, 1.6742, 1.6742, 1.674, 1.6737, 1.6737, 1.6736, 1.6735, 1.673, 1.673, 1.6729, 1.6729, 1.6729, 1.6718, 1.6684, 1.6537, 1.6599, 1.6463, 1.6263, 1.6036, 1.4168, 1.605, 1.4448, 1.5023, 1.5385, 1.4437, 1.2923, 1.5464, 0.9496, 1.3037, 0.6555, 0.771, 0.3099, 0.0435, 0.3418, 0.6754, 1.0763, 2.3898, 2.3897, 2.3895, 2.3892, 2.3888, 2.3883, 2.388, 2.3875, 2.3874, 2.3871, 2.3867, 2.3856, 2.3846, 2.3844, 2.3838, 2.3837, 2.3837, 2.3828, 2.3827, 2.3827, 2.3826, 2.3823, 2.3819, 2.3817, 2.3814, 2.3814, 2.3811, 2.3809, 2.3803, 2.38, 2.3752, 2.3035, 2.2825, 2.1244, 2.1872, 2.0082, 2.0475, 1.873, 1.7844, 1.6496, 1.5138, 0.8665, 1.7964, 0.4096, 1.5409, 1.1844, 1.2219, 0.9033, 0.5977, 0.0408, 0.0706, -0.0872, 1.0893, 2.4265, 2.4262, 2.426, 2.4259, 2.4258, 2.4256, 2.4249, 2.4248, 2.4245, 2.4243, 2.4242, 2.4239, 2.4238, 2.4236, 2.4234, 2.4229, 2.4226, 2.4225, 2.4223, 2.4221, 2.422, 2.422, 2.422, 2.422, 2.4219, 2.4214, 2.4212, 2.421, 2.4209, 2.4207, 2.4186, 2.418, 2.4086, 2.3756, 2.3923, 2.3799, 2.3336, 2.3808, 2.3987, 2.2629, 2.3071, 2.2208, 2.0801, 2.3347, 2.0503, 1.7027, 2.2056, 0.4885, 1.8193, 0.5854, 0.7683, 2.015, 2.6231, 2.623, 2.6225, 2.6222, 2.6222, 2.6221, 2.622, 2.6216, 2.6216, 2.6214, 2.6211, 2.6211, 2.6203, 2.6202, 2.6196, 2.6196, 2.6186, 2.6186, 2.6176, 2.6176, 2.6174, 2.617, 2.6169, 2.6165, 2.6163, 2.6158, 2.6157, 2.6157, 2.6155, 2.6153, 2.5968, 2.5297, 2.5594, 2.2445, 2.2194, 2.2732, 1.9627, 2.0559, 2.2425, 2.0137, 1.1709, 1.1737, 0.9483, 2.9847, 2.9838, 2.9829, 2.9824, 2.9822, 2.9819, 2.9818, 2.9818, 2.9812, 2.9812, 2.981, 2.9809, 2.9809, 2.9801, 2.9799, 2.9798, 2.9798, 2.9795, 2.9794, 2.9792, 2.9791, 2.979, 2.9789, 2.9787, 2.9786, 2.9782, 2.9781, 2.9774, 2.9773, 2.9773, 2.9749, 2.8405, 2.3398, 2.513, 0.3865, 0.4664, 3.2718, 3.2718, 3.2705, 3.2705, 3.2703, 3.2703, 3.2701, 3.2691, 3.2688, 3.2681, 3.2681, 3.2671, 3.267, 3.2665, 3.2655, 3.2653, 3.265, 3.265, 3.2649, 3.2647, 3.2643, 3.2643, 3.2642, 3.264, 3.2636, 3.2631, 3.263, 3.2626, 3.2624, 3.2624, 3.2611, 3.2275, 3.1601, 3.1255, 3.2411, 2.3425, 2.5513, 2.0696, 2.4656, 1.8119, 0.2901, 3.8187, 3.8184, 3.818, 3.8176, 3.8174, 3.8173, 3.8173, 3.8168, 3.8166, 3.8163, 3.8161, 3.8159, 3.8157, 3.8152, 3.8145, 3.8142, 3.8137, 3.8128, 3.8124, 3.812, 3.8119, 3.8115, 3.8098, 3.8087, 3.8081, 3.808, 3.8072, 3.8072, 3.8069, 3.8058, 3.4209, 3.5917, 3.9371, 3.937, 3.9352, 3.9348, 3.9348, 3.9346, 3.9335, 3.9334, 3.9324, 3.9318, 3.9307, 3.9307, 3.9294, 3.9292, 3.929, 3.9288, 3.9287, 3.9285, 3.9284, 3.928, 3.9275, 3.9269, 3.9264, 3.9244, 3.9239, 3.9239, 3.9227, 3.9226, 3.9226, 3.9218, 2.3921]}, \"token.table\": {\"Topic\": [10, 1, 2, 5, 2, 5, 8, 9, 2, 4, 4, 5, 2, 5, 4, 4, 4, 10, 3, 5, 1, 2, 3, 4, 2, 5, 5, 4, 10, 1, 2, 3, 4, 5, 6, 3, 4, 4, 8, 1, 5, 1, 2, 3, 4, 4, 8, 2, 1, 4, 1, 3, 5, 4, 9, 10, 2, 1, 4, 3, 8, 4, 3, 7, 2, 3, 4, 4, 8, 9, 6, 7, 2, 3, 5, 2, 3, 6, 1, 4, 2, 3, 1, 4, 5, 4, 9, 8, 1, 9, 2, 3, 4, 2, 4, 7, 1, 4, 5, 8, 6, 7, 8, 4, 9, 4, 5, 9, 2, 3, 5, 1, 6, 8, 5, 3, 3, 2, 2, 2, 7, 1, 2, 5, 10, 2, 10, 1, 5, 7, 1, 2, 4, 3, 1, 2, 4, 7, 4, 7, 10, 4, 8, 2, 5, 2, 3, 5, 9, 10, 7, 4, 5, 1, 1, 3, 2, 5, 8, 6, 9, 9, 5, 5, 5, 9, 4, 1, 2, 6, 8, 6, 4, 10, 4, 5, 8, 7, 1, 9, 2, 5, 5, 2, 4, 5, 2, 2, 3, 4, 1, 1, 3, 3, 4, 2, 2, 1, 4, 2, 5, 7, 8, 9, 1, 2, 5, 1, 2, 4, 5, 1, 2, 4, 6, 7, 1, 9, 3, 9, 9, 2, 7, 7, 4, 8, 3, 1, 1, 2, 3, 4, 1, 2, 3, 4, 1, 2, 3, 4, 6, 4, 6, 4, 6, 6, 2, 6, 1, 2, 3, 9, 3, 7, 8, 1, 6, 10, 6, 3, 9, 1, 6, 6, 2, 8, 3, 5, 8, 1, 5, 8, 6, 6, 6, 6, 1, 2, 3, 8, 8, 10, 1, 2, 5, 7, 1, 2, 3, 4, 1, 2, 3, 1, 6, 8, 1, 4, 8, 1, 2, 6, 5, 6, 3, 2, 2, 4, 5, 10, 1, 6, 2, 2, 10, 8, 2, 8, 3, 3, 10, 2, 5, 1, 2, 3, 4, 5, 8, 4, 1, 4, 5, 2, 4, 1, 9, 4, 2, 3, 4, 8, 3, 4, 3, 1, 9, 2, 5, 10, 3, 1, 2, 3, 5, 6, 7, 8, 9, 2, 7, 1, 2, 6, 7, 10, 3, 1, 2, 3, 4, 5, 2, 1, 4, 7, 8, 5, 6, 2, 1, 2, 5, 5, 2, 3, 4, 2, 2, 2, 8, 9, 10, 1, 2, 7, 10, 7, 10, 5, 2, 3, 4, 3, 4, 8, 2, 3, 4, 1, 2, 1, 2, 3, 7, 6, 1, 8, 3, 5, 10, 6, 9, 10, 7, 5, 3, 2, 5, 7, 5, 10, 8, 3, 4, 6, 3, 10, 1, 4, 8, 8, 10, 10, 3, 1, 3, 10, 7, 5, 4, 2, 4, 5, 4, 5, 9, 7, 6, 8, 4, 6, 9, 9, 6, 5, 7, 5, 5, 5, 7, 1, 4, 5, 5, 5, 4, 5, 7, 2, 7, 6, 5, 1, 4, 1, 2, 10, 6, 1, 2, 4, 1, 2, 4, 6, 7, 1, 2, 3, 4, 5, 1, 2, 6, 1, 2, 5, 7, 1, 2, 6, 8, 6, 3, 4, 10, 6, 10, 1, 9, 3, 7, 8, 3, 1, 5, 3, 8, 1, 2, 3, 4, 7, 5, 5, 3, 8, 1, 2, 4, 8, 6, 10, 9, 7, 1, 4, 6, 2, 3, 2, 6, 1, 2, 4, 1, 2, 3, 4, 4, 6, 1, 6, 7, 2, 1, 4, 10, 10, 2, 3, 4, 9, 1, 2, 3, 5, 6, 1, 2, 1, 9, 2, 4, 1, 5, 7, 1, 2, 3, 2, 4, 2, 3, 6, 7, 1, 5, 7, 1, 7, 2, 3, 7, 8, 9, 9, 8, 6, 1, 6, 1, 2, 3, 4, 3, 7, 10, 6, 1, 2, 5, 7, 1, 9, 6, 1, 1, 2, 6, 7, 4, 1, 2, 4, 5, 6, 2, 3, 4], \"Freq\": [0.9958843125951574, 0.00700972098421894, 0.9930438060976833, 0.9927980319870178, 0.9993723531567011, 0.10598404967443129, 0.8937529383800525, 0.98104685800578, 0.2883182025386606, 0.7103491946604681, 0.8971081463482881, 0.10105356131279566, 0.14989043003985725, 0.849379103559191, 0.9946768811997859, 0.990749863495528, 0.9960206030812849, 0.984305029364779, 0.9955388230861767, 0.994972968428452, 0.9932922891665795, 0.9331389703057428, 0.058790256842318915, 0.007505139171359861, 0.33590459374982207, 0.6621567566447641, 0.9949056026843315, 0.9867879853699556, 0.9857135844731171, 0.032955389153129414, 0.789253641921557, 0.005585659178496511, 0.12344306784477288, 0.03574821874237767, 0.012288450192692323, 0.9981038114900355, 0.9994427863085635, 0.9915244508673052, 0.9872539607639617, 0.9994050877092125, 0.9970047748773205, 0.9955603637232335, 0.04880174263071197, 0.9506954862482928, 0.9936594268058307, 0.9885277655439797, 0.9853433299059514, 0.9988617225568358, 0.8754247953440014, 0.124342320800819, 0.9918089137818776, 0.9975809289766128, 0.9975339931415502, 0.9961313582266141, 0.9864602942075255, 0.9929001570065811, 0.9987648026851199, 0.9840668749193067, 0.01565196089798245, 0.9992409068419105, 0.9978439616227347, 0.991694047123687, 0.9982408872380658, 0.9921627663787377, 0.9977166839649642, 0.9978712524965692, 0.999811067126852, 0.7664746832179336, 0.2325628312327918, 0.9909943249265001, 0.9997875185872175, 0.9958117333452352, 0.000970251935196505, 0.9295013539182517, 0.06888788739895185, 0.000163631290277003, 0.48336683147826687, 0.5164203521142214, 0.9996085482213037, 0.000355985950221262, 0.8158386416182994, 0.18439454186379436, 0.5303234642227574, 0.31131616329800094, 0.15837304818939002, 0.9974136464645968, 0.9960017979875752, 0.9890294778680059, 0.9982244904947966, 0.9907266765490855, 0.5010393841471199, 0.3477040553779582, 0.15117567625128617, 0.9996678516575983, 0.9996967480227024, 0.9967194497868518, 0.42533113886057106, 0.1303869241750165, 0.048557889003109596, 0.3947576531919465, 0.9971638532481162, 0.994862140906658, 0.9920160616458716, 0.987773435614687, 0.9961688658187023, 0.987900811353819, 0.9972181910973881, 0.9903933891385465, 0.6460814457583558, 0.19524439294895368, 0.1585621130615745, 0.3322685905175888, 0.6676619640181015, 0.9928275684536395, 0.9928925440207986, 0.9997809380285103, 0.9992489976600557, 0.9980325269030145, 0.9995333508412619, 0.9994283267392569, 0.9985497315895286, 0.03616549923841008, 0.01315109063214912, 0.9501662981727739, 0.9964189172549202, 0.9984873072461076, 0.9992535798779489, 0.9957601261420174, 0.9963334984119476, 0.9971409236908314, 0.1756453785287334, 0.395571104585719, 0.4280433594397705, 0.9985449844834845, 0.7377749502198997, 0.259800851488015, 0.002230050227364936, 0.9928835074851219, 0.13254352325686872, 0.8648464892510683, 0.9886208530608857, 0.999655792852009, 0.9979989509449779, 0.04066513592540893, 0.953782278977773, 0.016415391224504895, 0.7930052575492302, 0.1904996018646247, 0.9970308825242603, 0.9866864994481844, 0.9956555267488633, 0.01626660629739695, 0.9825030203627758, 0.9996786029042593, 0.9967856540164207, 0.9993740884403058, 0.9973648381952444, 0.9903940680105706, 0.9952733227483634, 0.9925651444616005, 0.9807776008342542, 0.9974920309721182, 0.998950079180366, 0.992396459172774, 0.9954428785002483, 0.9942046226704959, 0.9952720511878992, 0.4799272840275607, 0.33225735048061894, 0.1868248401692369, 0.9976756434862752, 0.9971123380974573, 0.9978177673118288, 0.988449890644055, 0.010030553724723806, 0.0008358794770603171, 0.9888454213623552, 0.9967269946938595, 0.9962016395336014, 0.9994398382771802, 0.04433269866409139, 0.9542085617223479, 0.9909834201258326, 0.11034602101640686, 0.20332276094689783, 0.6865974641020871, 0.9971002438547286, 0.3048307364211173, 0.6884379552881413, 0.006165116017505743, 0.997062332343924, 0.1212329251085847, 0.8778432287983061, 0.9958421807985102, 0.9985573581454603, 0.9974688743976765, 0.9961551629329801, 0.9938448946231491, 0.9995545004244785, 0.9824758795041729, 0.016807518933974964, 0.13468900333510028, 0.8628514276154862, 0.988635355837388, 0.9670433917384701, 0.031115706084726386, 0.0016376687413013887, 0.2213261781783328, 0.7360676325702269, 0.0347798279994523, 0.007588326108971411, 0.47914659974175694, 0.22047110984795126, 0.2992676436925259, 0.009689539861779475, 0.9902709738738622, 0.948365488240663, 0.050089726491584316, 0.9971100989244458, 0.9911668520436477, 0.9902075409176831, 0.9979988033382405, 0.9938043818037066, 0.9919179875493773, 0.5525644116261587, 0.4464560282341789, 0.996297334491454, 0.9948812906676054, 0.18429159927777766, 0.371566967305767, 0.36015843973142836, 0.08407207243243381, 0.6565087007039787, 0.2442356742386824, 0.04291168660679641, 0.0561461320088925, 0.31733127426477514, 0.3165212391039206, 0.26326142727773305, 0.09841927204382943, 0.0046577021749137386, 0.08726113453714848, 0.909697327549773, 0.0589553184365346, 0.9396003875822702, 0.995624839460864, 0.9971367926967173, 0.0017966428697238149, 0.07662682811067854, 0.9204234294235623, 0.002704476286259243, 0.9877991811423242, 0.9992841361664115, 0.9964387108486444, 0.9990238616685854, 0.2951595593473006, 0.7043195603545528, 0.9956803819875043, 0.998865659798828, 0.9982128999211555, 0.9875604350562145, 0.9998398848152316, 0.9988286549809008, 0.9988273559077734, 0.9982398571260374, 0.993294829193605, 0.9989446005652225, 0.9965334929754482, 0.9891862735378358, 0.0073451860882811975, 0.9916001219179617, 0.9884035860145689, 0.9990184733690463, 0.9986116874154061, 0.9980974070173854, 0.9927081646759459, 0.003475035283023822, 0.0013900141132095287, 0.9950184360391543, 0.9889571009639352, 0.9946676948126943, 0.9926116137791251, 0.09597934890590967, 0.11581865566299714, 0.7072444760161724, 0.08042962198819247, 0.05156422776561559, 0.33350411829051374, 0.5489095213759079, 0.06653448743950398, 0.10027433451327672, 0.8782320861636748, 0.020910287765801783, 0.9958743387218258, 0.04312986752462562, 0.9555961273424864, 0.9317510648374717, 0.06717954385975501, 0.9872367340765728, 0.3910585916874616, 0.0656592203327096, 0.5436197212840516, 0.9967426246722451, 0.9964276515459057, 0.999264488316383, 0.9988330994715752, 0.007204169535243335, 0.1897097977614078, 0.8020642082570912, 0.992488798589223, 0.025888834432473005, 0.9736727486554482, 0.997769388433357, 0.9982618440469204, 0.9949727046389283, 0.9895772949037458, 0.9990015868223026, 0.996730520362698, 0.9968853509104552, 0.9938483337223932, 0.9927432037499949, 0.0877779135859878, 0.9118154696993427, 0.3287026809667589, 0.4790308695317613, 0.008226915792114558, 0.07254643925773747, 0.06058001628738902, 0.050483346906157515, 0.9976404429820692, 0.9940321370397778, 0.006278097707619649, 0.9965431424511404, 0.9989047577722755, 0.9852166208326851, 0.9993827537461029, 0.9984159252553082, 0.998878362655925, 0.9992355407026289, 0.2827898640698125, 0.41624126059713973, 0.30026564218648627, 0.014536353557397616, 0.9854345948910445, 0.9977244293598152, 0.997023123481982, 0.9962632919790237, 0.8607024637380589, 0.13931547639219136, 0.9993851283098397, 0.99930660157046, 0.038153227693177486, 0.02543548512878499, 0.012717742564392495, 0.02543548512878499, 0.06358871282196248, 0.02543548512878499, 0.02543548512878499, 0.8012177815567272, 0.9991142541795338, 0.994700423768142, 0.11798616243537889, 0.8121469028623614, 0.06931025685665755, 0.9968174035578835, 0.9912502225568445, 0.9964642154018762, 0.3889210073452935, 0.006341103380629785, 0.40406919875457575, 0.1666301055021049, 0.03417150155117162, 0.9995956154043845, 0.726694808691549, 0.2725105532593309, 0.9971967257011726, 0.996952611044835, 0.9913023736287775, 0.007490949926665825, 0.9986013970473158, 0.9995855065927236, 0.08533056637233179, 0.9112085480474001, 0.9920173219834174, 0.038911649407954156, 0.8712413208902906, 0.0892120742523827, 0.9988792083457139, 0.9992189471620306, 0.5123252613545386, 0.4864315658348146, 0.9986785394191489, 0.9987122044986144, 0.1094244909255032, 0.8901830207723368, 0.9912687527243254, 0.9963151437508116, 0.9909314153555151, 0.9904966487691474, 0.9972809453749967, 0.3508051159765235, 0.171259190476728, 0.4769476379943285, 0.0825550514978392, 0.9172562468832206, 0.9988854361162951, 0.1570532632196893, 0.8399545059695882, 0.0028045225574944515, 0.6971016187133149, 0.3030492461580064, 0.9647847735635425, 0.027399567574254834, 0.007599880057092582, 0.9969935333829342, 0.9918595102037491, 0.9991106249273222, 0.9898483367057532, 0.982931349882461, 0.01449038845035569, 0.9908022910051495, 0.9987525640366285, 0.6690165375346343, 0.3269058081135145, 0.9968468821698456, 0.9982266190860575, 0.9989911492250677, 0.02376219910087649, 0.974250163135936, 0.9997753777401196, 0.9986771976992178, 0.9964972809751363, 0.997272129117506, 0.9994397312081011, 0.9959141092384458, 0.9975840324932592, 0.9978595854424952, 0.9959377458132648, 0.8416967750540298, 0.09448600682164367, 0.0626692902388453, 0.9943467646408979, 0.9797155992316849, 0.9805129231477568, 0.9989246443528862, 0.007555053755644163, 0.9912230527405141, 0.9873368561140607, 0.995462761550382, 0.999631479673362, 0.9954067282858523, 0.99780736893162, 0.03330312301064268, 0.9657905673086377, 0.5968385474309963, 0.40218230958962015, 0.9970652887566572, 0.9963459685794385, 0.021498047167029743, 0.9674121225163385, 0.9985012031487995, 0.996803542255082, 0.9960613947448634, 0.9958345734679753, 0.9981230299938669, 0.8867635247565898, 0.11141387875146896, 0.9996578512651044, 0.9982802933907348, 0.3724336539923856, 0.6239472904547759, 0.9974368234800832, 0.9913308836790923, 0.9943382128171897, 0.9995630057642964, 0.995705523902554, 0.0034888176185625054, 0.9954759604965016, 0.9952836301100517, 0.9990544878444857, 0.9944522761064988, 0.9992846968675724, 0.996105291277847, 0.9043521709283675, 0.09549708440847736, 0.9982637800122369, 0.9956127995795667, 0.9872523386523264, 0.997144906959869, 0.3125889620695394, 0.6194648099498182, 0.06692505193133741, 0.3119899329949978, 0.43206673073592966, 0.22599606911066225, 0.027790699913840138, 0.0010487056571260429, 0.057545977008882226, 0.021290651068298035, 0.7711569046686735, 0.005985869948914463, 0.14393296377162504, 0.47332676386855843, 0.2911121326754232, 0.23504609230830464, 0.050829466780969106, 0.09076690496601626, 0.8132714684955057, 0.0435681143836878, 0.9266606821662637, 0.00474399666638019, 0.0685243962921583, 0.9976541249337454, 0.9973374163816072, 0.104030950233919, 0.6828698271764939, 0.21339682099265436, 0.9996297907667615, 0.9981088788111625, 0.9976289365775197, 0.999494413636268, 0.9985828325680023, 0.9948102056224601, 0.9956100387946407, 0.9941829510614697, 0.5146022217617682, 0.4849654445922423, 0.9970553913609584, 0.9930734789277723, 0.08448510491066785, 0.8937099049586311, 0.002035785660498021, 0.006107356981494062, 0.013232606793237135, 0.9993520786536023, 0.997868972061115, 0.9965317480530125, 0.9937330336762709, 0.7408978038268128, 0.13878238368805243, 0.12007504043229615, 0.9972893727106267, 0.9927999086765228, 0.9777410710557973, 0.98445123411505, 0.991836616026009, 0.9996149862374323, 0.3150896281448642, 0.682945461959921, 0.06808606995934144, 0.9314753826352457, 0.9873997165010033, 0.011548534695918168, 0.513907990292105, 0.4604377947703831, 0.025249814551924234, 0.8521394892843315, 0.010712610722431596, 0.1080999809263552, 0.027268463657098608, 0.9922763057958149, 0.9995401542383929, 0.42019263309847127, 0.5667184223878975, 0.012543063674581231, 0.9968165501354419, 0.7819917201368048, 0.21794107873811006, 0.9907297628393723, 0.9874549372928054, 0.9788151006496204, 0.020434553249470154, 0.9899694801424154, 0.9981260476054826, 0.669296122532281, 0.0643902773709918, 0.25499154442456146, 0.011185165552707496, 0.9928048274179986, 0.90020929445968, 0.09975934133853974, 0.9897279530862226, 0.9943655424063506, 0.1811426451218054, 0.8151419030481242, 0.45400007585334884, 0.5450305479153148, 0.9969661970416847, 0.14546959222249684, 0.8311129603428659, 0.02333471274558823, 0.45295334338895105, 0.5462482111317499, 0.010365110869220845, 0.6807804818904251, 0.23383690120962225, 0.07421419382362124, 0.0828961705774674, 0.3912699251256461, 0.523903798049594, 0.9972416596950785, 0.989590518630543, 0.20776214533776322, 0.792214535493527, 0.9959875875085141, 0.9895196796082021, 0.9955155522244016, 0.992029170031413, 0.9968122820332349, 0.9944673432904155, 0.9996137543256193, 0.988112293440662, 0.9918005704737247, 0.5350896140877889, 0.36753126335759595, 0.09724368569162986, 0.9705125990752835, 0.007002255404583576, 0.022407217294667443, 0.9963036542821551, 0.9021079985163128, 0.09454406971350005, 0.0028138115986160728, 0.9951805736956989, 0.9953108500155137, 0.9985061242413683, 0.9992803301953206, 0.9975333442019455, 0.2816130427797191, 0.01599424989418283, 0.6846110177920758, 0.017707919525702418, 0.9960954726414658, 0.7855364826210998, 0.05769476991002428, 0.13800932554159653, 0.018754379300777124, 0.9899078338450701, 0.010317390704096843, 0.9773382830608099, 0.01219327992302354], \"Term\": [\"ability\", \"able\", \"able\", \"accept\", \"access\", \"account\", \"account\", \"action\", \"add\", \"add\", \"additional\", \"additional\", \"address\", \"address\", \"adjust\", \"adjustment\", \"advance\", \"advantage\", \"advertise\", \"advise\", \"afternoon\", \"ago\", \"ago\", \"ago\", \"agree\", \"agree\", \"agreement\", \"ahead\", \"alarm\", \"also\", \"also\", \"also\", \"also\", \"also\", \"also\", \"always\", \"amount\", \"anyway\", \"apply\", \"appointment\", \"approximately\", \"appt\", \"area\", \"area\", \"argue\", \"around\", \"arrangement\", \"arrive\", \"ask\", \"ask\", \"assign\", \"assure\", \"attempt\", \"attitude\", \"attorney\", \"aware\", \"away\", \"back\", \"back\", \"bad\", \"balance\", \"bank\", \"basic\", \"be\", \"believe\", \"big\", \"bill\", \"billing\", \"billing\", \"block\", \"box\", \"break\", \"business\", \"business\", \"business\", \"cable\", \"cable\", \"cable\", \"call\", \"call\", \"can\", \"can\", \"cancel\", \"cancel\", \"cancel\", \"card\", \"case\", \"cash\", \"cell\", \"certainly\", \"change\", \"change\", \"change\", \"channel\", \"charge\", \"chat\", \"check\", \"check\", \"check\", \"check\", \"child\", \"choice\", \"city\", \"closed\", \"code\", \"collect\", \"collection\", \"com\", \"comcast\", \"comcast\", \"comcast\", \"come\", \"come\", \"commercial\", \"communication\", \"company\", \"complain\", \"complaint\", \"complete\", \"computer\", \"connection\", \"contact\", \"contact\", \"contact\", \"contacted\", \"continue\", \"contract\", \"contractor\", \"conversation\", \"copy\", \"correct\", \"correct\", \"correct\", \"cost\", \"could\", \"could\", \"could\", \"country\", \"course\", \"course\", \"create\", \"credit\", \"csr\", \"current\", \"current\", \"customer\", \"customer\", \"customer\", \"cut\", \"daily\", \"damage\", \"date\", \"date\", \"day\", \"dead\", \"deal\", \"decide\", \"deny\", \"dept\", \"determine\", \"difficult\", \"digital\", \"disconnect\", \"disconnected\", \"discuss\", \"dispatch\", \"dispute\", \"do\", \"do\", \"do\", \"dollar\", \"door\", \"double\", \"downgrade\", \"due\", \"due\", \"due\", \"dvr\", \"early\", \"email\", \"employee\", \"employee\", \"enter\", \"equipment\", \"equipment\", \"equipment\", \"error\", \"even\", \"even\", \"even\", \"evening\", \"ever\", \"ever\", \"excuse\", \"extra\", \"fact\", \"fail\", \"fair\", \"fee\", \"feel\", \"feel\", \"file\", \"file\", \"fill\", \"finally\", \"finally\", \"finally\", \"find\", \"find\", \"find\", \"find\", \"first\", \"first\", \"first\", \"fix\", \"fix\", \"follow\", \"follow\", \"force\", \"form\", \"forward\", \"free\", \"front\", \"frustration\", \"full\", \"full\", \"game\", \"garage\", \"get\", \"get\", \"get\", \"get\", \"give\", \"give\", \"give\", \"give\", \"go\", \"go\", \"go\", \"go\", \"go\", \"guy\", \"guy\", \"hang\", \"hang\", \"hard\", \"hear\", \"hear\", \"help\", \"help\", \"help\", \"helpful\", \"high\", \"high_speed\", \"hold\", \"home\", \"home\", \"honor\", \"hook\", \"horrible\", \"hospital\", \"hour\", \"house\", \"husband\", \"include\", \"incorrect\", \"increase\", \"indicate\", \"info\", \"information\", \"information\", \"initial\", \"instal\", \"install\", \"installation\", \"installer\", \"internet\", \"internet\", \"internet\", \"interrupt\", \"interruption\", \"isp\", \"issue\", \"issue\", \"issue\", \"issue\", \"keep\", \"keep\", \"keep\", \"keep\", \"know\", \"know\", \"know\", \"lady\", \"late\", \"late\", \"later\", \"later\", \"lead\", \"leave\", \"leave\", \"leave\", \"leave_voice\", \"left\", \"less\", \"let\", \"letter\", \"letter\", \"letter\", \"limit\", \"line\", \"line\", \"live\", \"local\", \"lock\", \"log\", \"long\", \"loss\", \"lot\", \"low\", \"made\", \"mail\", \"mail\", \"make\", \"make\", \"make\", \"make\", \"make\", \"make\", \"man\", \"manager\", \"manager\", \"matter\", \"may\", \"meg\", \"minute\", \"miss\", \"mistake\", \"modem\", \"money\", \"money\", \"money\", \"month\", \"month\", \"monthly\", \"morning\", \"mother\", \"move\", \"move\", \"movie\", \"much\", \"must_approve\", \"must_approve\", \"must_approve\", \"must_approve\", \"must_approve\", \"must_approve\", \"must_approve\", \"must_approve\", \"name\", \"nee\", \"need\", \"need\", \"need\", \"neighbor\", \"neighborhood\", \"network\", \"never\", \"never\", \"never\", \"never\", \"never\", \"new\", \"next\", \"next\", \"nice\", \"non\", \"note\", \"note\", \"notice\", \"number\", \"numerous\", \"numerous\", \"occur\", \"offer\", \"offer\", \"offer\", \"office\", \"old\", \"online\", \"online\", \"open\", \"operator\", \"order\", \"order\", \"other\", \"outage\", \"outlet\", \"outrageous\", \"owe\", \"package\", \"package\", \"package\", \"pay\", \"pay\", \"payment\", \"people\", \"people\", \"people\", \"person\", \"person\", \"phone\", \"phone\", \"phone\", \"picture\", \"play\", \"pm\", \"policy\", \"poor\", \"poor\", \"poorly\", \"port\", \"possible\", \"possible\", \"power\", \"previous\", \"price\", \"prior\", \"prior\", \"problem\", \"process\", \"product\", \"program\", \"promise\", \"promotion\", \"property\", \"provider\", \"purchase\", \"put\", \"put\", \"put\", \"quality\", \"quite\", \"rain\", \"rate\", \"really\", \"really\", \"reassure\", \"rebate\", \"receive\", \"recieve\", \"record\", \"refund\", \"refund\", \"refuse\", \"refuse\", \"regard\", \"regular\", \"remember\", \"remember\", \"remove\", \"rep\", \"repair\", \"repeatedly\", \"replace\", \"report\", \"report\", \"representative\", \"request\", \"require\", \"require\", \"reschedule\", \"residence\", \"resolution\", \"resolve\", \"respond\", \"return\", \"return\", \"rewire\", \"right\", \"room\", \"run\", \"sale\", \"say\", \"say\", \"schedule\", \"screen\", \"season\", \"security\", \"see\", \"see\", \"see\", \"send\", \"send\", \"send\", \"send\", \"send\", \"service\", \"service\", \"service\", \"service\", \"service\", \"set\", \"set\", \"set\", \"several\", \"several\", \"several\", \"several\", \"show\", \"show\", \"show\", \"shut\", \"sick\", \"sign\", \"sign\", \"sign\", \"signal\", \"simple\", \"sit\", \"situation\", \"slow\", \"solve\", \"son\", \"sound\", \"speak\", \"speak\", \"speed\", \"stand\", \"start\", \"start\", \"start\", \"start\", \"start\", \"state\", \"statement\", \"stay\", \"steal\", \"still\", \"still\", \"still\", \"stop\", \"street\", \"sub\", \"submit\", \"subscribe\", \"supervisor\", \"suppose\", \"suppose\", \"switch\", \"switch\", \"system\", \"system\", \"take\", \"take\", \"take\", \"talk\", \"talk\", \"talk\", \"talk\", \"taxis\", \"tech\", \"technician\", \"technician\", \"technician\", \"television\", \"tell\", \"tell\", \"temporary\", \"therefore\", \"thing\", \"thing\", \"threaten\", \"ticket\", \"time\", \"time\", \"time\", \"time\", \"tired\", \"today\", \"today\", \"tomorrow\", \"tonight\", \"total\", \"total\", \"transfer\", \"transfer\", \"trouble\", \"try\", \"try\", \"try\", \"turn\", \"turn\", \"tv\", \"tv\", \"tv\", \"tv\", \"unable\", \"unable\", \"unable\", \"unacceptable\", \"update\", \"use\", \"use\", \"utility\", \"vacation\", \"various\", \"verify\", \"video\", \"visit\", \"wait\", \"waiting\", \"walk\", \"want\", \"want\", \"want\", \"watch\", \"watch\", \"watch\", \"weak\", \"week\", \"week\", \"week\", \"weekend\", \"whole\", \"wife\", \"wire\", \"woman\", \"work\", \"work\", \"work\", \"work\", \"worry\", \"would\", \"would\", \"would\", \"would\", \"yard\", \"year\", \"year\", \"year\"]}, \"R\": 30, \"lambda.step\": 0.01, \"plot.opts\": {\"xlab\": \"PC1\", \"ylab\": \"PC2\"}, \"topic.order\": [2, 4, 5, 9, 1, 3, 6, 10, 8, 7]};\n",
              "\n",
              "function LDAvis_load_lib(url, callback){\n",
              "  var s = document.createElement('script');\n",
              "  s.src = url;\n",
              "  s.async = true;\n",
              "  s.onreadystatechange = s.onload = callback;\n",
              "  s.onerror = function(){console.warn(\"failed to load library \" + url);};\n",
              "  document.getElementsByTagName(\"head\")[0].appendChild(s);\n",
              "}\n",
              "\n",
              "if(typeof(LDAvis) !== \"undefined\"){\n",
              "   // already loaded: just create the visualization\n",
              "   !function(LDAvis){\n",
              "       new LDAvis(\"#\" + \"ldavis_el601400257233937444536067745\", ldavis_el601400257233937444536067745_data);\n",
              "   }(LDAvis);\n",
              "}else if(typeof define === \"function\" && define.amd){\n",
              "   // require.js is available: use it to load d3/LDAvis\n",
              "   require.config({paths: {d3: \"https://d3js.org/d3.v5\"}});\n",
              "   require([\"d3\"], function(d3){\n",
              "      window.d3 = d3;\n",
              "      LDAvis_load_lib(\"https://cdn.jsdelivr.net/gh/bmabey/pyLDAvis@3.3.1/pyLDAvis/js/ldavis.v3.0.0.js\", function(){\n",
              "        new LDAvis(\"#\" + \"ldavis_el601400257233937444536067745\", ldavis_el601400257233937444536067745_data);\n",
              "      });\n",
              "    });\n",
              "}else{\n",
              "    // require.js not available: dynamically load d3 & LDAvis\n",
              "    LDAvis_load_lib(\"https://d3js.org/d3.v5.js\", function(){\n",
              "         LDAvis_load_lib(\"https://cdn.jsdelivr.net/gh/bmabey/pyLDAvis@3.3.1/pyLDAvis/js/ldavis.v3.0.0.js\", function(){\n",
              "                 new LDAvis(\"#\" + \"ldavis_el601400257233937444536067745\", ldavis_el601400257233937444536067745_data);\n",
              "            })\n",
              "         });\n",
              "}\n",
              "</script>"
            ]
          },
          "metadata": {},
          "execution_count": 18
        }
      ]
    },
    {
      "cell_type": "markdown",
      "source": [
        "### 6. Exporting the model"
      ],
      "metadata": {
        "id": "ogKKuu-nSZs1"
      }
    },
    {
      "cell_type": "code",
      "source": [
        "lda_model.save('lda_model.model')"
      ],
      "metadata": {
        "colab": {
          "base_uri": "https://localhost:8080/"
        },
        "id": "PFBW1lR-SZST",
        "outputId": "a2da6cd6-4239-422c-e9b3-1efc7807dee1"
      },
      "execution_count": null,
      "outputs": [
        {
          "output_type": "stream",
          "name": "stderr",
          "text": [
            "/usr/local/lib/python3.7/dist-packages/smart_open/smart_open_lib.py:496: DeprecationWarning: This function is deprecated.  See https://github.com/RaRe-Technologies/smart_open/blob/develop/MIGRATING_FROM_OLDER_VERSIONS.rst for more information\n",
            "  warnings.warn(message, category=DeprecationWarning)\n",
            "/usr/local/lib/python3.7/dist-packages/smart_open/smart_open_lib.py:496: DeprecationWarning: This function is deprecated.  See https://github.com/RaRe-Technologies/smart_open/blob/develop/MIGRATING_FROM_OLDER_VERSIONS.rst for more information\n",
            "  warnings.warn(message, category=DeprecationWarning)\n",
            "/usr/local/lib/python3.7/dist-packages/smart_open/smart_open_lib.py:496: DeprecationWarning: This function is deprecated.  See https://github.com/RaRe-Technologies/smart_open/blob/develop/MIGRATING_FROM_OLDER_VERSIONS.rst for more information\n",
            "  warnings.warn(message, category=DeprecationWarning)\n"
          ]
        }
      ]
    },
    {
      "cell_type": "code",
      "source": [
        "# later on, load trained model from file\n",
        "# model =  gensim.models.ldamodel.LdaModel.load('lda_model.model')\n",
        "\n",
        "# print all topics\n",
        "# model.show_topics()"
      ],
      "metadata": {
        "id": "SKzMkrtgSkYA"
      },
      "execution_count": null,
      "outputs": []
    }
  ]
}