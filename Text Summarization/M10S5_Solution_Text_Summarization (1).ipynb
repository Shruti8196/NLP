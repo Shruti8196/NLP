{
 "cells": [
  {
   "cell_type": "markdown",
   "metadata": {
    "id": "eVRzxFZlLYfD"
   },
   "source": [
    "# Section: Transfer Learning for NLP\n",
    "\n",
    "\n",
    "\n"
   ]
  },
  {
   "cell_type": "markdown",
   "metadata": {
    "id": "o2mcHMC4LYRM"
   },
   "source": [
    "## <font color='#4073FF'>Project Solution: Text Summarization</font>"
   ]
  },
  {
   "cell_type": "markdown",
   "metadata": {
    "id": "HsLFX7iPLYKj"
   },
   "source": [
    "###  <font color='#14AAF5'>This project is aimed at summarizing text using transfer learning.</font>\n"
   ]
  },
  {
   "cell_type": "markdown",
   "metadata": {
    "id": "bXeSK_IZOPD-"
   },
   "source": [
    "### Project Brief:\n",
    "\n",
    "Summarization is the task of condensing a piece of text to a shorter version, reducing the size of the initial text while at the same time preserving key informational elements and the meaning of content. Since manual text summarization is a time expensive and generally laborious task, the automatization of the task is gaining increasing popularity and therefore constitutes a strong motivation for academic research. In this project, you are required to scrape paragraphs from \"https://en.wikipedia.org/wiki/Cassowary\" and summarize them using transfer learning techniques."
   ]
  },
  {
   "cell_type": "markdown",
   "metadata": {
    "id": "QbbV1Ny1OzLw"
   },
   "source": [
    "### 1. Data collection"
   ]
  },
  {
   "cell_type": "code",
   "execution_count": 1,
   "metadata": {
    "id": "9KcBp4CX542o"
   },
   "outputs": [],
   "source": [
    "import bs4 as bs\n",
    "import urllib.request\n",
    "import re\n",
    "\n",
    "# Reading the data from https://en.wikipedia.org/wiki/Cassowary \n",
    "\n",
    "urlr = urllib.request.urlopen('https://en.wikipedia.org/wiki/Cassowary')\n",
    "page = urlr.read()\n",
    "soup = bs.BeautifulSoup(page,'lxml')\n",
    "\n",
    "text = \"\"\n",
    "\n",
    "# Getting first few paragraphs\n",
    "for i in soup.find_all('p')[:20]:\n",
    "     text+= i.text\n"
   ]
  },
  {
   "cell_type": "code",
   "execution_count": 2,
   "metadata": {
    "colab": {
     "base_uri": "https://localhost:8080/"
    },
    "id": "26CeTFZDeUv0",
    "outputId": "6d59c9ea-79a6-4990-f799-a3ee89d7289a"
   },
   "outputs": [
    {
     "name": "stdout",
     "output_type": "stream",
     "text": [
      "\n",
      "\n",
      "Casuarius is a genus of birds in the order Casuariiformes, whose members are the cassowaries (Tok Pisin: muruk, Indonesian: kasuari). It is classified as a ratite (flightless bird without a keel on its sternum bone) and is native to the tropical forests of New Guinea (Papua New Guinea and Indonesia), Aru Islands (Indonesia), and northeastern Australia.[3]\n",
      "Three species are extant: The most common, the southern cassowary, is the third-tallest and second-heaviest living bird, smaller only than the ostrich and emu. The other two species are represented by the northern cassowary and the dwarf cassowary. A fourth but extinct species is represented by the pygmy cassowary.\n",
      "Cassowaries feed mainly on fruit, although all species are truly omnivorous and take a range of other plant foods, including shoots and grass seeds, in addition to fungi, invertebrates, and small vertebrates. Cassowaries are very wary of humans, but if provoked, they are capable of inflicting serious, even fatal, injuries to both dogs and people. The cassowary has often been labeled \"the world's most dangerous bird\".[4]\n",
      "The genus Casuarius was erected by French scientist Mathurin Jacques Brisson in his Ornithologie published in 1760.[5] The type species is the southern cassowary (Casuarius casuarius).[6] The Swedish naturalist Carl Linnaeus had introduced the genus Casuarius in the sixth edition of his Systema Naturae published in 1748,[7] but Linnaeus dropped the genus in the important tenth edition of 1758 and put the southern cassowary together with the common ostrich and the greater rhea in the genus Struthio.[8][9] As the publication date of Linnaeus's sixth edition was before the 1758 starting point of the International Commission on Zoological Nomenclature, Brisson, and not Linnaeus, is considered the authority for the genus.[10]\n",
      "Cassowaries (from Malay kasuari)[11] are part of the ratite group, which also includes the emu, rheas, ostriches, and kiwi, as well as the extinct moas and elephant birds. These species are recognised:\n",
      "Most authorities consider the taxonomic classification above to be monotypic, but several subspecies of each have been described,[15] and some of them have even been suggested as separate species, e.g., C. (b) papuanus.[12] The taxonomic name C. (b) papuanus also may be in need of revision to Casuarius (bennetti) westermanni.[16] Validation of these subspecies has proven difficult due to individual variations, age-related variations, the scarcity of specimens, the stability of specimens (the bright skin of the head and neck—the basis of describing several subspecies—fades in specimens), and the practice of trading live cassowaries for thousands of years, some of which are likely to have escaped or been deliberately introduced to regions away from their origin.[12]\n",
      "The evolutionary history of cassowaries, as of all ratites, is not well known. A fossil species was reported from Australia, but for reasons of biogeography, this assignment is not certain, and it might belong to the prehistoric Emuarius, which was a genus of cassowary-like primitive emus.\n",
      "All ratites are believed to have originally come from the super-continent Gondwana, which separated around 180 million years ago. Studies show that ratites continued to evolve after this separation into their modern counterparts.[17]\n",
      "Typically, all cassowaries are shy birds that are found in the deep forest. They are adept at disappearing long before a human knows they were there. The southern cassowary of the far north Queensland rain forests is not well studied, and the northern and dwarf cassowaries even less so. Females are larger and more brightly coloured than the males. Adult southern cassowaries are 1.5 to 1.8 m (5 to 6 ft) tall, although some females may reach 2 m (6.6 ft),[18] and weigh 58.5 kg (130 lb).[12]\n",
      "All cassowaries' feathers consist of a shaft and loose barbules. They do not have rectrices (tail feathers) or a preen gland. Cassowaries have small wings with five or six large remiges. These are reduced to stiff, keratinous quills, resembling porcupine quills, with no barbs.[12] The furcula and coracoid are degenerate, and their palatal bones and sphenoid bones touch each other.[19] These, along with their wedge-shaped body, are thought to be adaptations to ward off vines, thorns, and saw-edged leaves, allowing them to run quickly through the rainforest.[20]\n",
      "Cassowaries have three-toed feet with sharp claws. The second toe, the inner one in the medial position, sports a dagger-like claw that may be 125 mm (5 in) long.[12] This claw is particularly fearsome, since cassowaries sometimes kick humans and other animals with their powerful legs. Cassowaries can run at up to 50 km/h (30 mph) through the dense forest and can jump up to 1.5 m (5 ft). They are good swimmers, crossing wide rivers and swimming in the sea.[21]\n",
      "All three species have a keratinous, skin-covered casque on their heads that grows with age. The casque's shape and size, up to 18 cm (7 in), is species-dependent. C. casuarius has the largest and C. bennetti the smallest (tricorn shape), with C. unappendiculatus having variations in between. Contrary to earlier findings,[22] the hollow inside of the casque is spanned with fine fibres that are believed to have an acoustic function.[23]\n",
      "Several functions for the casque have been proposed. One is that they are a secondary sexual characteristic. Other suggested functions include being used to batter through underbrush, as a weapon in dominance disputes, or for pushing aside leaf litter during foraging. The latter three are disputed by biologist Andrew Mack, whose personal observation suggests that the casque amplifies deep sounds.[24]\n",
      "Earlier research indicates the birds lower their heads when running \"full tilt through the vegetation, brushing saplings aside and occasionally careening into small trees. The casque would help protect the skull from such collisions\". Cassowaries eat fallen fruit, and consequently spend much time under trees where seeds the size of golfballs or larger fall from heights up to 30 m (100 ft); the wedge-shaped casque may protect the head by deflecting falling fruit.[citation needed]\n",
      "The casques also may play a role in either sound reception or acoustic communication. This is related to a discovery that at least the dwarf cassowary and southern cassowary produce very-low-frequency sounds, which may aid in communication in dense rainforest.[24] The \"boom\" vocalisation that cassowaries produce is the lowest-frequency bird call known, and is at the lower limit of human hearing.[25] A cooling function for the very similar casques of guineafowl has been proposed.\n",
      "The average lifespan of wild cassowaries is believed to be about 40 to 50 years.[26]\n",
      "Cassowaries are solitary birds except during courtship, egg-laying, and sometimes around ample food supplies.[19] The male cassowary defends a territory of about 7 km2 (1,700 acres) for himself. Female cassowary have larger territories, overlapping those of several males.[26] While females move among satellite territories of different males, they appear to remain within the same territories for most of their lives, mating with the same, or closely related, males over the course of their lives.\n",
      "Courtship and pair-bonding rituals begin with the vibratory sounds broadcast by females. Males approach and run with their necks parallel to the ground while making dramatic movements of their heads, which accentuate the frontal neck region. The female approaches drumming slowly. The male crouches on the ground, and the female either steps on the male's back for a moment before crouching beside him in preparation for copulation, or she may attack. This is often the case with the females pursuing the males in ritualistic chasing behaviours that generally terminate in water. The male cassowary dives into water and submerges himself up to his upper neck and head. The female pursues him into the water, where he eventually drives her to the shallows, where she crouches making ritualistic motions of her head. The two may remain in copulation for extended periods of time. In some cases, another male may approach and run off the first male. He will climb onto her to copulate, as well.[citation needed]\n",
      "\n"
     ]
    }
   ],
   "source": [
    "print(text)"
   ]
  },
  {
   "cell_type": "markdown",
   "metadata": {
    "id": "w99GfGo5Vg1Z"
   },
   "source": [
    "### 2. Data Cleaning"
   ]
  },
  {
   "cell_type": "code",
   "execution_count": 3,
   "metadata": {
    "colab": {
     "base_uri": "https://localhost:8080/"
    },
    "id": "oqa4rWix54xA",
    "outputId": "8e63a43a-46a6-425a-84a1-d87a3de9234b"
   },
   "outputs": [
    {
     "name": "stderr",
     "output_type": "stream",
     "text": [
      "/usr/local/lib/python3.7/dist-packages/ipykernel_launcher.py:3: FutureWarning: Possible nested set at position 1\n",
      "  This is separate from the ipykernel package so we can avoid doing imports until\n"
     ]
    }
   ],
   "source": [
    "import re\n",
    "\n",
    "x = re.sub(r\"[[0-9]*]\", \"\", text)\n",
    "x = re.sub(r\"\\([^()]*\\)\", \"\", x)\n",
    "x = x.replace(\"\\xa0\",\"\")\n",
    "x = x.replace(\"C.\",\"\")"
   ]
  },
  {
   "cell_type": "code",
   "execution_count": 4,
   "metadata": {
    "colab": {
     "base_uri": "https://localhost:8080/",
     "height": 139
    },
    "id": "VZ4eoopuead0",
    "outputId": "cd8bf0af-b3a6-4269-987a-22741d869823"
   },
   "outputs": [
    {
     "data": {
      "application/vnd.google.colaboratory.intrinsic+json": {
       "type": "string"
      },
      "text/plain": [
       "'\\n\\nCasuarius is a genus of birds in the order Casuariiformes, whose members are the cassowaries . It is classified as a ratite  and is native to the tropical forests of New Guinea , Aru Islands , and northeastern Australia.\\nThree species are extant: The most common, the southern cassowary, is the third-tallest and second-heaviest living bird, smaller only than the ostrich and emu. The other two species are represented by the northern cassowary and the dwarf cassowary. A fourth but extinct species is represented by the pygmy cassowary.\\nCassowaries feed mainly on fruit, although all species are truly omnivorous and take a range of other plant foods, including shoots and grass seeds, in addition to fungi, invertebrates, and small vertebrates. Cassowaries are very wary of humans, but if provoked, they are capable of inflicting serious, even fatal, injuries to both dogs and people. The cassowary has often been labeled \"the world\\'s most dangerous bird\".\\nThe genus Casuarius was erected by French scientist Mathurin Jacques Brisson in his Ornithologie published in 1760. The type species is the southern cassowary . The Swedish naturalist Carl Linnaeus had introduced the genus Casuarius in the sixth edition of his Systema Naturae published in 1748, but Linnaeus dropped the genus in the important tenth edition of 1758 and put the southern cassowary together with the common ostrich and the greater rhea in the genus Struthio. As the publication date of Linnaeus\\'s sixth edition was before the 1758 starting point of the International Commission on Zoological Nomenclature, Brisson, and not Linnaeus, is considered the authority for the genus.\\nCassowaries  are part of the ratite group, which also includes the emu, rheas, ostriches, and kiwi, as well as the extinct moas and elephant birds. These species are recognised:\\nMost authorities consider the taxonomic classification above to be monotypic, but several subspecies of each have been described, and some of them have even been suggested as separate species, e.g.,   papuanus. The taxonomic name   papuanus also may be in need of revision to Casuarius  westermanni. Validation of these subspecies has proven difficult due to individual variations, age-related variations, the scarcity of specimens, the stability of specimens , and the practice of trading live cassowaries for thousands of years, some of which are likely to have escaped or been deliberately introduced to regions away from their origin.\\nThe evolutionary history of cassowaries, as of all ratites, is not well known. A fossil species was reported from Australia, but for reasons of biogeography, this assignment is not certain, and it might belong to the prehistoric Emuarius, which was a genus of cassowary-like primitive emus.\\nAll ratites are believed to have originally come from the super-continent Gondwana, which separated around 180 million years ago. Studies show that ratites continued to evolve after this separation into their modern counterparts.\\nTypically, all cassowaries are shy birds that are found in the deep forest. They are adept at disappearing long before a human knows they were there. The southern cassowary of the far north Queensland rain forests is not well studied, and the northern and dwarf cassowaries even less so. Females are larger and more brightly coloured than the males. Adult southern cassowaries are 1.5 to 1.8m  tall, although some females may reach 2m , and weigh 58.5kg .\\nAll cassowaries\\' feathers consist of a shaft and loose barbules. They do not have rectrices  or a preen gland. Cassowaries have small wings with five or six large remiges. These are reduced to stiff, keratinous quills, resembling porcupine quills, with no barbs. The furcula and coracoid are degenerate, and their palatal bones and sphenoid bones touch each other. These, along with their wedge-shaped body, are thought to be adaptations to ward off vines, thorns, and saw-edged leaves, allowing them to run quickly through the rainforest.\\nCassowaries have three-toed feet with sharp claws. The second toe, the inner one in the medial position, sports a dagger-like claw that may be 125mm  long. This claw is particularly fearsome, since cassowaries sometimes kick humans and other animals with their powerful legs. Cassowaries can run at up to 50km/h  through the dense forest and can jump up to 1.5m . They are good swimmers, crossing wide rivers and swimming in the sea.\\nAll three species have a keratinous, skin-covered casque on their heads that grows with age. The casque\\'s shape and size, up to 18cm , is species-dependent.  casuarius has the largest and  bennetti the smallest , with  unappendiculatus having variations in between. Contrary to earlier findings, the hollow inside of the casque is spanned with fine fibres that are believed to have an acoustic function.\\nSeveral functions for the casque have been proposed. One is that they are a secondary sexual characteristic. Other suggested functions include being used to batter through underbrush, as a weapon in dominance disputes, or for pushing aside leaf litter during foraging. The latter three are disputed by biologist Andrew Mack, whose personal observation suggests that the casque amplifies deep sounds.\\nEarlier research indicates the birds lower their heads when running \"full tilt through the vegetation, brushing saplings aside and occasionally careening into small trees. The casque would help protect the skull from such collisions\". Cassowaries eat fallen fruit, and consequently spend much time under trees where seeds the size of golfballs or larger fall from heights up to 30m ; the wedge-shaped casque may protect the head by deflecting falling fruit.[citation needed\\nThe casques also may play a role in either sound reception or acoustic communication. This is related to a discovery that at least the dwarf cassowary and southern cassowary produce very-low-frequency sounds, which may aid in communication in dense rainforest. The \"boom\" vocalisation that cassowaries produce is the lowest-frequency bird call known, and is at the lower limit of human hearing. A cooling function for the very similar casques of guineafowl has been proposed.\\nThe average lifespan of wild cassowaries is believed to be about 40 to 50 years.\\nCassowaries are solitary birds except during courtship, egg-laying, and sometimes around ample food supplies. The male cassowary defends a territory of about 7km2  for himself. Female cassowary have larger territories, overlapping those of several males. While females move among satellite territories of different males, they appear to remain within the same territories for most of their lives, mating with the same, or closely related, males over the course of their lives.\\nCourtship and pair-bonding rituals begin with the vibratory sounds broadcast by females. Males approach and run with their necks parallel to the ground while making dramatic movements of their heads, which accentuate the frontal neck region. The female approaches drumming slowly. The male crouches on the ground, and the female either steps on the male\\'s back for a moment before crouching beside him in preparation for copulation, or she may attack. This is often the case with the females pursuing the males in ritualistic chasing behaviours that generally terminate in water. The male cassowary dives into water and submerges himself up to his upper neck and head. The female pursues him into the water, where he eventually drives her to the shallows, where she crouches making ritualistic motions of her head. The two may remain in copulation for extended periods of time. In some cases, another male may approach and run off the first male. He will climb onto her to copulate, as well.[citation needed\\n'"
      ]
     },
     "execution_count": 4,
     "metadata": {},
     "output_type": "execute_result"
    }
   ],
   "source": [
    "x"
   ]
  },
  {
   "cell_type": "code",
   "execution_count": 5,
   "metadata": {
    "id": "yPEvu3MGcKjz"
   },
   "outputs": [],
   "source": [
    "with open('original_text.txt','w') as f:\n",
    "  f.write(x)"
   ]
  },
  {
   "cell_type": "code",
   "execution_count": 6,
   "metadata": {
    "colab": {
     "base_uri": "https://localhost:8080/"
    },
    "id": "BVPxMuEO_8pv",
    "outputId": "49176965-9d4b-4276-d88c-eb8fd3a553a1"
   },
   "outputs": [
    {
     "name": "stdout",
     "output_type": "stream",
     "text": [
      "Requirement already satisfied: sentencepiece in /usr/local/lib/python3.7/dist-packages (0.1.96)\n",
      "Requirement already satisfied: bert-extractive-summarizer in /usr/local/lib/python3.7/dist-packages (0.10.1)\n",
      "Requirement already satisfied: spacy in /usr/local/lib/python3.7/dist-packages (from bert-extractive-summarizer) (2.2.4)\n",
      "Requirement already satisfied: scikit-learn in /usr/local/lib/python3.7/dist-packages (from bert-extractive-summarizer) (1.0.2)\n",
      "Requirement already satisfied: transformers in /usr/local/lib/python3.7/dist-packages (from bert-extractive-summarizer) (4.16.2)\n",
      "Requirement already satisfied: numpy>=1.14.6 in /usr/local/lib/python3.7/dist-packages (from scikit-learn->bert-extractive-summarizer) (1.19.5)\n",
      "Requirement already satisfied: joblib>=0.11 in /usr/local/lib/python3.7/dist-packages (from scikit-learn->bert-extractive-summarizer) (1.1.0)\n",
      "Requirement already satisfied: threadpoolctl>=2.0.0 in /usr/local/lib/python3.7/dist-packages (from scikit-learn->bert-extractive-summarizer) (3.1.0)\n",
      "Requirement already satisfied: scipy>=1.1.0 in /usr/local/lib/python3.7/dist-packages (from scikit-learn->bert-extractive-summarizer) (1.4.1)\n",
      "Requirement already satisfied: setuptools in /usr/local/lib/python3.7/dist-packages (from spacy->bert-extractive-summarizer) (57.4.0)\n",
      "Requirement already satisfied: catalogue<1.1.0,>=0.0.7 in /usr/local/lib/python3.7/dist-packages (from spacy->bert-extractive-summarizer) (1.0.0)\n",
      "Requirement already satisfied: tqdm<5.0.0,>=4.38.0 in /usr/local/lib/python3.7/dist-packages (from spacy->bert-extractive-summarizer) (4.62.3)\n",
      "Requirement already satisfied: cymem<2.1.0,>=2.0.2 in /usr/local/lib/python3.7/dist-packages (from spacy->bert-extractive-summarizer) (2.0.6)\n",
      "Requirement already satisfied: plac<1.2.0,>=0.9.6 in /usr/local/lib/python3.7/dist-packages (from spacy->bert-extractive-summarizer) (1.1.3)\n",
      "Requirement already satisfied: requests<3.0.0,>=2.13.0 in /usr/local/lib/python3.7/dist-packages (from spacy->bert-extractive-summarizer) (2.23.0)\n",
      "Requirement already satisfied: wasabi<1.1.0,>=0.4.0 in /usr/local/lib/python3.7/dist-packages (from spacy->bert-extractive-summarizer) (0.9.0)\n",
      "Requirement already satisfied: preshed<3.1.0,>=3.0.2 in /usr/local/lib/python3.7/dist-packages (from spacy->bert-extractive-summarizer) (3.0.6)\n",
      "Requirement already satisfied: murmurhash<1.1.0,>=0.28.0 in /usr/local/lib/python3.7/dist-packages (from spacy->bert-extractive-summarizer) (1.0.6)\n",
      "Requirement already satisfied: thinc==7.4.0 in /usr/local/lib/python3.7/dist-packages (from spacy->bert-extractive-summarizer) (7.4.0)\n",
      "Requirement already satisfied: srsly<1.1.0,>=1.0.2 in /usr/local/lib/python3.7/dist-packages (from spacy->bert-extractive-summarizer) (1.0.5)\n",
      "Requirement already satisfied: blis<0.5.0,>=0.4.0 in /usr/local/lib/python3.7/dist-packages (from spacy->bert-extractive-summarizer) (0.4.1)\n",
      "Requirement already satisfied: importlib-metadata>=0.20 in /usr/local/lib/python3.7/dist-packages (from catalogue<1.1.0,>=0.0.7->spacy->bert-extractive-summarizer) (4.10.1)\n",
      "Requirement already satisfied: typing-extensions>=3.6.4 in /usr/local/lib/python3.7/dist-packages (from importlib-metadata>=0.20->catalogue<1.1.0,>=0.0.7->spacy->bert-extractive-summarizer) (3.10.0.2)\n",
      "Requirement already satisfied: zipp>=0.5 in /usr/local/lib/python3.7/dist-packages (from importlib-metadata>=0.20->catalogue<1.1.0,>=0.0.7->spacy->bert-extractive-summarizer) (3.7.0)\n",
      "Requirement already satisfied: certifi>=2017.4.17 in /usr/local/lib/python3.7/dist-packages (from requests<3.0.0,>=2.13.0->spacy->bert-extractive-summarizer) (2021.10.8)\n",
      "Requirement already satisfied: idna<3,>=2.5 in /usr/local/lib/python3.7/dist-packages (from requests<3.0.0,>=2.13.0->spacy->bert-extractive-summarizer) (2.10)\n",
      "Requirement already satisfied: chardet<4,>=3.0.2 in /usr/local/lib/python3.7/dist-packages (from requests<3.0.0,>=2.13.0->spacy->bert-extractive-summarizer) (3.0.4)\n",
      "Requirement already satisfied: urllib3!=1.25.0,!=1.25.1,<1.26,>=1.21.1 in /usr/local/lib/python3.7/dist-packages (from requests<3.0.0,>=2.13.0->spacy->bert-extractive-summarizer) (1.24.3)\n",
      "Requirement already satisfied: regex!=2019.12.17 in /usr/local/lib/python3.7/dist-packages (from transformers->bert-extractive-summarizer) (2019.12.20)\n",
      "Requirement already satisfied: huggingface-hub<1.0,>=0.1.0 in /usr/local/lib/python3.7/dist-packages (from transformers->bert-extractive-summarizer) (0.4.0)\n",
      "Requirement already satisfied: filelock in /usr/local/lib/python3.7/dist-packages (from transformers->bert-extractive-summarizer) (3.4.2)\n",
      "Requirement already satisfied: tokenizers!=0.11.3,>=0.10.1 in /usr/local/lib/python3.7/dist-packages (from transformers->bert-extractive-summarizer) (0.11.4)\n",
      "Requirement already satisfied: sacremoses in /usr/local/lib/python3.7/dist-packages (from transformers->bert-extractive-summarizer) (0.0.47)\n",
      "Requirement already satisfied: packaging>=20.0 in /usr/local/lib/python3.7/dist-packages (from transformers->bert-extractive-summarizer) (21.3)\n",
      "Requirement already satisfied: pyyaml>=5.1 in /usr/local/lib/python3.7/dist-packages (from transformers->bert-extractive-summarizer) (6.0)\n",
      "Requirement already satisfied: pyparsing!=3.0.5,>=2.0.2 in /usr/local/lib/python3.7/dist-packages (from packaging>=20.0->transformers->bert-extractive-summarizer) (3.0.7)\n",
      "Requirement already satisfied: six in /usr/local/lib/python3.7/dist-packages (from sacremoses->transformers->bert-extractive-summarizer) (1.15.0)\n",
      "Requirement already satisfied: click in /usr/local/lib/python3.7/dist-packages (from sacremoses->transformers->bert-extractive-summarizer) (7.1.2)\n"
     ]
    }
   ],
   "source": [
    "# Installing dependencies\n",
    "\n",
    "!pip install sentencepiece\n",
    "!pip install bert-extractive-summarizer"
   ]
  },
  {
   "cell_type": "code",
   "execution_count": 7,
   "metadata": {
    "id": "PuCBgCJp9eBN"
   },
   "outputs": [],
   "source": [
    "from summarizer import Summarizer,TransformerSummarizer"
   ]
  },
  {
   "cell_type": "markdown",
   "metadata": {
    "id": "pAHYQQBp-WvQ"
   },
   "source": [
    "### 3. BERT Summarizer"
   ]
  },
  {
   "cell_type": "code",
   "execution_count": 8,
   "metadata": {
    "colab": {
     "base_uri": "https://localhost:8080/",
     "height": 264
    },
    "id": "lwXTX8yD-L9I",
    "outputId": "7bba7fba-c912-452c-eb3c-d0bebe836a23"
   },
   "outputs": [
    {
     "name": "stderr",
     "output_type": "stream",
     "text": [
      "Some weights of the model checkpoint at bert-large-uncased were not used when initializing BertModel: ['cls.predictions.transform.dense.bias', 'cls.predictions.transform.LayerNorm.bias', 'cls.predictions.bias', 'cls.predictions.transform.LayerNorm.weight', 'cls.predictions.transform.dense.weight', 'cls.seq_relationship.bias', 'cls.predictions.decoder.weight', 'cls.seq_relationship.weight']\n",
      "- This IS expected if you are initializing BertModel from the checkpoint of a model trained on another task or with another architecture (e.g. initializing a BertForSequenceClassification model from a BertForPreTraining model).\n",
      "- This IS NOT expected if you are initializing BertModel from the checkpoint of a model that you expect to be exactly identical (initializing a BertForSequenceClassification model from a BertForSequenceClassification model).\n"
     ]
    },
    {
     "name": "stdout",
     "output_type": "stream",
     "text": [
      "\n",
      "\n",
      "\n"
     ]
    },
    {
     "data": {
      "application/vnd.google.colaboratory.intrinsic+json": {
       "type": "string"
      },
      "text/plain": [
       "'Casuarius is a genus of birds in the order Casuariiformes, whose members are the cassowaries . Three species are extant: The most common, the southern cassowary, is the third-tallest and second-heaviest living bird, smaller only than the ostrich and emu. The genus Casuarius was erected by French scientist Mathurin Jacques Brisson in his Ornithologie published in 1760. The evolutionary history of cassowaries, as of all ratites, is not well known. Studies show that ratites continued to evolve after this separation into their modern counterparts. Females are larger and more brightly coloured than the males. All three species have a keratinous, skin-covered casque on their heads that grows with age. The casque would help protect the skull from such collisions\". Cassowaries eat fallen fruit, and consequently spend much time under trees where seeds the size of golfballs or larger fall from heights up to 30m ; the wedge-shaped casque may protect the head by deflecting falling fruit.[citation needed\\nThe casques also may play a role in either sound reception or acoustic communication. This is related to a discovery that at least the dwarf cassowary and southern cassowary produce very-low-frequency sounds, which may aid in communication in dense rainforest. The male cassowary defends a territory of about 7km2  for himself. The two may remain in copulation for extended periods of time.'"
      ]
     },
     "execution_count": 8,
     "metadata": {},
     "output_type": "execute_result"
    }
   ],
   "source": [
    "bert_model = Summarizer()\n",
    "bert_summary = ''.join(bert_model(x, min_length=60))\n",
    "\n",
    "print(\"\\n\\n\")\n",
    "bert_summary"
   ]
  },
  {
   "cell_type": "code",
   "execution_count": 9,
   "metadata": {
    "id": "OYk4VydbS8vj"
   },
   "outputs": [],
   "source": [
    "# write the summary to bert_summary.txt file\n",
    "\n",
    "with open('bert_summary.txt','w') as f:\n",
    "  f.write(bert_summary)"
   ]
  },
  {
   "cell_type": "markdown",
   "metadata": {
    "id": "zGVuBucz-oFj"
   },
   "source": [
    "### 4. GPT2_model Summarizer"
   ]
  },
  {
   "cell_type": "code",
   "execution_count": 10,
   "metadata": {
    "colab": {
     "base_uri": "https://localhost:8080/",
     "height": 191
    },
    "id": "6k63jm5Y-PH-",
    "outputId": "52a3efa9-f315-452c-fb23-bc211ac51fae"
   },
   "outputs": [
    {
     "name": "stdout",
     "output_type": "stream",
     "text": [
      "\n",
      "\n",
      "\n"
     ]
    },
    {
     "data": {
      "application/vnd.google.colaboratory.intrinsic+json": {
       "type": "string"
      },
      "text/plain": [
       "'Casuarius is a genus of birds in the order Casuariiformes, whose members are the cassowaries . Cassowaries feed mainly on fruit, although all species are truly omnivorous and take a range of other plant foods, including shoots and grass seeds, in addition to fungi, invertebrates, and small vertebrates. As the publication date of Linnaeus\\'s sixth edition was before the 1758 starting point of the International Commission on Zoological Nomenclature, Brisson, and not Linnaeus, is considered the authority for the genus. A fossil species was reported from Australia, but for reasons of biogeography, this assignment is not certain, and it might belong to the prehistoric Emuarius, which was a genus of cassowary-like primitive emus. Typically, all cassowaries are shy birds that are found in the deep forest. The southern cassowary of the far north Queensland rain forests is not well studied, and the northern and dwarf cassowaries even less so. Females are larger and more brightly coloured than the males. These are reduced to stiff, keratinous quills, resembling porcupine quills, with no barbs. Earlier research indicates the birds lower their heads when running \"full tilt through the vegetation, brushing saplings aside and occasionally careening into small trees. The \"boom\" vocalisation that cassowaries produce is the lowest-frequency bird call known, and is at the lower limit of human hearing. A cooling function for the very similar casques of guineafowl has been proposed. In some cases, another male may approach and run off the first male.'"
      ]
     },
     "execution_count": 10,
     "metadata": {},
     "output_type": "execute_result"
    }
   ],
   "source": [
    "GPT2_model = TransformerSummarizer(transformer_type=\"GPT2\",transformer_model_key=\"gpt2-medium\")\n",
    "gpt2_summary = ''.join(GPT2_model(x, min_length=60))\n",
    "\n",
    "print(\"\\n\\n\")\n",
    "gpt2_summary"
   ]
  },
  {
   "cell_type": "code",
   "execution_count": 11,
   "metadata": {
    "id": "D9WM7gMNU_cc"
   },
   "outputs": [],
   "source": [
    "# Write the summary to gpt2_summary.txt file\n",
    "\n",
    "with open('gpt2_summary.txt','w') as f:\n",
    "  f.write(gpt2_summary)"
   ]
  },
  {
   "cell_type": "markdown",
   "metadata": {
    "id": "1vVWUQpK-rVO"
   },
   "source": [
    "### 5. XLnet Summarizer"
   ]
  },
  {
   "cell_type": "code",
   "execution_count": 12,
   "metadata": {
    "colab": {
     "base_uri": "https://localhost:8080/",
     "height": 264
    },
    "id": "eWAWgLXuJHJn",
    "outputId": "e83adf16-73d9-429c-b19a-57a28177588d"
   },
   "outputs": [
    {
     "name": "stderr",
     "output_type": "stream",
     "text": [
      "Some weights of the model checkpoint at xlnet-base-cased were not used when initializing XLNetModel: ['lm_loss.bias', 'lm_loss.weight']\n",
      "- This IS expected if you are initializing XLNetModel from the checkpoint of a model trained on another task or with another architecture (e.g. initializing a BertForSequenceClassification model from a BertForPreTraining model).\n",
      "- This IS NOT expected if you are initializing XLNetModel from the checkpoint of a model that you expect to be exactly identical (initializing a BertForSequenceClassification model from a BertForSequenceClassification model).\n"
     ]
    },
    {
     "name": "stdout",
     "output_type": "stream",
     "text": [
      "\n",
      "\n",
      "\n"
     ]
    },
    {
     "data": {
      "application/vnd.google.colaboratory.intrinsic+json": {
       "type": "string"
      },
      "text/plain": [
       "'Casuarius is a genus of birds in the order Casuariiformes, whose members are the cassowaries . The other two species are represented by the northern cassowary and the dwarf cassowary. The taxonomic name   papuanus also may be in need of revision to Casuarius  westermanni. A fossil species was reported from Australia, but for reasons of biogeography, this assignment is not certain, and it might belong to the prehistoric Emuarius, which was a genus of cassowary-like primitive emus. Typically, all cassowaries are shy birds that are found in the deep forest. They are adept at disappearing long before a human knows they were there. The casque\\'s shape and size, up to 18cm , is species-dependent. Earlier research indicates the birds lower their heads when running \"full tilt through the vegetation, brushing saplings aside and occasionally careening into small trees. Cassowaries eat fallen fruit, and consequently spend much time under trees where seeds the size of golfballs or larger fall from heights up to 30m ; the wedge-shaped casque may protect the head by deflecting falling fruit.[citation needed\\nThe casques also may play a role in either sound reception or acoustic communication. The male cassowary defends a territory of about 7km2  for himself. The female pursues him into the water, where he eventually drives her to the shallows, where she crouches making ritualistic motions of her head. In some cases, another male may approach and run off the first male.'"
      ]
     },
     "execution_count": 12,
     "metadata": {},
     "output_type": "execute_result"
    }
   ],
   "source": [
    "xlnet_model = TransformerSummarizer(transformer_type=\"XLNet\",transformer_model_key=\"xlnet-base-cased\")\n",
    "xlnet_summary = ''.join(xlnet_model(x, min_length=60))\n",
    "\n",
    "print(\"\\n\\n\")\n",
    "xlnet_summary"
   ]
  },
  {
   "cell_type": "code",
   "execution_count": 13,
   "metadata": {
    "id": "ujMFsSJzVZ3G"
   },
   "outputs": [],
   "source": [
    "# Write the summary to xlnet_summary.txt file\n",
    "\n",
    "with open('xlnet_summary.txt','w') as f:\n",
    "  f.write(xlnet_summary)"
   ]
  }
 ],
 "metadata": {
  "accelerator": "TPU",
  "colab": {
   "collapsed_sections": [],
   "name": "M10S5_Solution_Text_Summarization.ipynb",
   "provenance": []
  },
  "kernelspec": {
   "display_name": "Python 3 (ipykernel)",
   "language": "python",
   "name": "python3"
  },
  "language_info": {
   "codemirror_mode": {
    "name": "ipython",
    "version": 3
   },
   "file_extension": ".py",
   "mimetype": "text/x-python",
   "name": "python",
   "nbconvert_exporter": "python",
   "pygments_lexer": "ipython3",
   "version": "3.7.9"
  }
 },
 "nbformat": 4,
 "nbformat_minor": 1
}
